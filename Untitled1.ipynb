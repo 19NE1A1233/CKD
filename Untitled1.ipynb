{
  "nbformat": 4,
  "nbformat_minor": 0,
  "metadata": {
    "colab": {
      "provenance": [],
      "authorship_tag": "ABX9TyPiwP4ZHD4vC2+x/VnKcEC0",
      "include_colab_link": true
    },
    "kernelspec": {
      "name": "python3",
      "display_name": "Python 3"
    },
    "language_info": {
      "name": "python"
    },
    "gpuClass": "standard"
  },
  "cells": [
    {
      "cell_type": "markdown",
      "metadata": {
        "id": "view-in-github",
        "colab_type": "text"
      },
      "source": [
        "<a href=\"https://colab.research.google.com/github/19NE1A1233/CKD/blob/main/Untitled1.ipynb\" target=\"_parent\"><img src=\"https://colab.research.google.com/assets/colab-badge.svg\" alt=\"Open In Colab\"/></a>"
      ]
    },
    {
      "cell_type": "code",
      "execution_count": null,
      "metadata": {
        "id": "LfBAe6sT6ZWu"
      },
      "outputs": [],
      "source": [
        "import glob \n",
        "from keras.models import Sequential,load_model\n",
        "import numpy as np\n",
        "import pandas as pd\n",
        "from keras.layers import Dense\n",
        "from sklearn.model_selection import train_test_split\n",
        "from sklearn.preprocessing import LabelEncoder,MinMaxScaler\n",
        "import matplotlib.pyplot as plt\n",
        "import keras as k\n"
      ]
    },
    {
      "cell_type": "code",
      "source": [
        "df = pd.read_csv('/chronic  kidney.csv')\n",
        "df.head(5)\n"
      ],
      "metadata": {
        "id": "7uQYPf6j6q01",
        "colab": {
          "base_uri": "https://localhost:8080/",
          "height": 235
        },
        "outputId": "387465fd-482b-4eb3-808a-6c766b694b31"
      },
      "execution_count": 10,
      "outputs": [
        {
          "output_type": "execute_result",
          "data": {
            "text/plain": [
              "   id   age    bp     sg   al   su     rbc        pc         pcc          ba  \\\n",
              "0   0  48.0  80.0  1.020  1.0  0.0     NaN    normal  notpresent  notpresent   \n",
              "1   1   7.0  50.0  1.020  4.0  0.0     NaN    normal  notpresent  notpresent   \n",
              "2   2  62.0  80.0  1.010  2.0  3.0  normal    normal  notpresent  notpresent   \n",
              "3   3  48.0  70.0  1.005  4.0  0.0  normal  abnormal     present  notpresent   \n",
              "4   4  51.0  80.0  1.010  2.0  0.0  normal    normal  notpresent  notpresent   \n",
              "\n",
              "   ...  pcv    wc   rc  htn   dm  cad appet   pe  ane classification  \n",
              "0  ...   44  7800  5.2  yes  yes   no  good   no   no            ckd  \n",
              "1  ...   38  6000  NaN   no   no   no  good   no   no            ckd  \n",
              "2  ...   31  7500  NaN   no  yes   no  poor   no  yes            ckd  \n",
              "3  ...   32  6700  3.9  yes   no   no  poor  yes  yes            ckd  \n",
              "4  ...   35  7300  4.6   no   no   no  good   no   no            ckd  \n",
              "\n",
              "[5 rows x 26 columns]"
            ],
            "text/html": [
              "\n",
              "  <div id=\"df-45c7e1d7-b94e-4ba5-9505-cef94dd2d6d9\">\n",
              "    <div class=\"colab-df-container\">\n",
              "      <div>\n",
              "<style scoped>\n",
              "    .dataframe tbody tr th:only-of-type {\n",
              "        vertical-align: middle;\n",
              "    }\n",
              "\n",
              "    .dataframe tbody tr th {\n",
              "        vertical-align: top;\n",
              "    }\n",
              "\n",
              "    .dataframe thead th {\n",
              "        text-align: right;\n",
              "    }\n",
              "</style>\n",
              "<table border=\"1\" class=\"dataframe\">\n",
              "  <thead>\n",
              "    <tr style=\"text-align: right;\">\n",
              "      <th></th>\n",
              "      <th>id</th>\n",
              "      <th>age</th>\n",
              "      <th>bp</th>\n",
              "      <th>sg</th>\n",
              "      <th>al</th>\n",
              "      <th>su</th>\n",
              "      <th>rbc</th>\n",
              "      <th>pc</th>\n",
              "      <th>pcc</th>\n",
              "      <th>ba</th>\n",
              "      <th>...</th>\n",
              "      <th>pcv</th>\n",
              "      <th>wc</th>\n",
              "      <th>rc</th>\n",
              "      <th>htn</th>\n",
              "      <th>dm</th>\n",
              "      <th>cad</th>\n",
              "      <th>appet</th>\n",
              "      <th>pe</th>\n",
              "      <th>ane</th>\n",
              "      <th>classification</th>\n",
              "    </tr>\n",
              "  </thead>\n",
              "  <tbody>\n",
              "    <tr>\n",
              "      <th>0</th>\n",
              "      <td>0</td>\n",
              "      <td>48.0</td>\n",
              "      <td>80.0</td>\n",
              "      <td>1.020</td>\n",
              "      <td>1.0</td>\n",
              "      <td>0.0</td>\n",
              "      <td>NaN</td>\n",
              "      <td>normal</td>\n",
              "      <td>notpresent</td>\n",
              "      <td>notpresent</td>\n",
              "      <td>...</td>\n",
              "      <td>44</td>\n",
              "      <td>7800</td>\n",
              "      <td>5.2</td>\n",
              "      <td>yes</td>\n",
              "      <td>yes</td>\n",
              "      <td>no</td>\n",
              "      <td>good</td>\n",
              "      <td>no</td>\n",
              "      <td>no</td>\n",
              "      <td>ckd</td>\n",
              "    </tr>\n",
              "    <tr>\n",
              "      <th>1</th>\n",
              "      <td>1</td>\n",
              "      <td>7.0</td>\n",
              "      <td>50.0</td>\n",
              "      <td>1.020</td>\n",
              "      <td>4.0</td>\n",
              "      <td>0.0</td>\n",
              "      <td>NaN</td>\n",
              "      <td>normal</td>\n",
              "      <td>notpresent</td>\n",
              "      <td>notpresent</td>\n",
              "      <td>...</td>\n",
              "      <td>38</td>\n",
              "      <td>6000</td>\n",
              "      <td>NaN</td>\n",
              "      <td>no</td>\n",
              "      <td>no</td>\n",
              "      <td>no</td>\n",
              "      <td>good</td>\n",
              "      <td>no</td>\n",
              "      <td>no</td>\n",
              "      <td>ckd</td>\n",
              "    </tr>\n",
              "    <tr>\n",
              "      <th>2</th>\n",
              "      <td>2</td>\n",
              "      <td>62.0</td>\n",
              "      <td>80.0</td>\n",
              "      <td>1.010</td>\n",
              "      <td>2.0</td>\n",
              "      <td>3.0</td>\n",
              "      <td>normal</td>\n",
              "      <td>normal</td>\n",
              "      <td>notpresent</td>\n",
              "      <td>notpresent</td>\n",
              "      <td>...</td>\n",
              "      <td>31</td>\n",
              "      <td>7500</td>\n",
              "      <td>NaN</td>\n",
              "      <td>no</td>\n",
              "      <td>yes</td>\n",
              "      <td>no</td>\n",
              "      <td>poor</td>\n",
              "      <td>no</td>\n",
              "      <td>yes</td>\n",
              "      <td>ckd</td>\n",
              "    </tr>\n",
              "    <tr>\n",
              "      <th>3</th>\n",
              "      <td>3</td>\n",
              "      <td>48.0</td>\n",
              "      <td>70.0</td>\n",
              "      <td>1.005</td>\n",
              "      <td>4.0</td>\n",
              "      <td>0.0</td>\n",
              "      <td>normal</td>\n",
              "      <td>abnormal</td>\n",
              "      <td>present</td>\n",
              "      <td>notpresent</td>\n",
              "      <td>...</td>\n",
              "      <td>32</td>\n",
              "      <td>6700</td>\n",
              "      <td>3.9</td>\n",
              "      <td>yes</td>\n",
              "      <td>no</td>\n",
              "      <td>no</td>\n",
              "      <td>poor</td>\n",
              "      <td>yes</td>\n",
              "      <td>yes</td>\n",
              "      <td>ckd</td>\n",
              "    </tr>\n",
              "    <tr>\n",
              "      <th>4</th>\n",
              "      <td>4</td>\n",
              "      <td>51.0</td>\n",
              "      <td>80.0</td>\n",
              "      <td>1.010</td>\n",
              "      <td>2.0</td>\n",
              "      <td>0.0</td>\n",
              "      <td>normal</td>\n",
              "      <td>normal</td>\n",
              "      <td>notpresent</td>\n",
              "      <td>notpresent</td>\n",
              "      <td>...</td>\n",
              "      <td>35</td>\n",
              "      <td>7300</td>\n",
              "      <td>4.6</td>\n",
              "      <td>no</td>\n",
              "      <td>no</td>\n",
              "      <td>no</td>\n",
              "      <td>good</td>\n",
              "      <td>no</td>\n",
              "      <td>no</td>\n",
              "      <td>ckd</td>\n",
              "    </tr>\n",
              "  </tbody>\n",
              "</table>\n",
              "<p>5 rows × 26 columns</p>\n",
              "</div>\n",
              "      <button class=\"colab-df-convert\" onclick=\"convertToInteractive('df-45c7e1d7-b94e-4ba5-9505-cef94dd2d6d9')\"\n",
              "              title=\"Convert this dataframe to an interactive table.\"\n",
              "              style=\"display:none;\">\n",
              "        \n",
              "  <svg xmlns=\"http://www.w3.org/2000/svg\" height=\"24px\"viewBox=\"0 0 24 24\"\n",
              "       width=\"24px\">\n",
              "    <path d=\"M0 0h24v24H0V0z\" fill=\"none\"/>\n",
              "    <path d=\"M18.56 5.44l.94 2.06.94-2.06 2.06-.94-2.06-.94-.94-2.06-.94 2.06-2.06.94zm-11 1L8.5 8.5l.94-2.06 2.06-.94-2.06-.94L8.5 2.5l-.94 2.06-2.06.94zm10 10l.94 2.06.94-2.06 2.06-.94-2.06-.94-.94-2.06-.94 2.06-2.06.94z\"/><path d=\"M17.41 7.96l-1.37-1.37c-.4-.4-.92-.59-1.43-.59-.52 0-1.04.2-1.43.59L10.3 9.45l-7.72 7.72c-.78.78-.78 2.05 0 2.83L4 21.41c.39.39.9.59 1.41.59.51 0 1.02-.2 1.41-.59l7.78-7.78 2.81-2.81c.8-.78.8-2.07 0-2.86zM5.41 20L4 18.59l7.72-7.72 1.47 1.35L5.41 20z\"/>\n",
              "  </svg>\n",
              "      </button>\n",
              "      \n",
              "  <style>\n",
              "    .colab-df-container {\n",
              "      display:flex;\n",
              "      flex-wrap:wrap;\n",
              "      gap: 12px;\n",
              "    }\n",
              "\n",
              "    .colab-df-convert {\n",
              "      background-color: #E8F0FE;\n",
              "      border: none;\n",
              "      border-radius: 50%;\n",
              "      cursor: pointer;\n",
              "      display: none;\n",
              "      fill: #1967D2;\n",
              "      height: 32px;\n",
              "      padding: 0 0 0 0;\n",
              "      width: 32px;\n",
              "    }\n",
              "\n",
              "    .colab-df-convert:hover {\n",
              "      background-color: #E2EBFA;\n",
              "      box-shadow: 0px 1px 2px rgba(60, 64, 67, 0.3), 0px 1px 3px 1px rgba(60, 64, 67, 0.15);\n",
              "      fill: #174EA6;\n",
              "    }\n",
              "\n",
              "    [theme=dark] .colab-df-convert {\n",
              "      background-color: #3B4455;\n",
              "      fill: #D2E3FC;\n",
              "    }\n",
              "\n",
              "    [theme=dark] .colab-df-convert:hover {\n",
              "      background-color: #434B5C;\n",
              "      box-shadow: 0px 1px 3px 1px rgba(0, 0, 0, 0.15);\n",
              "      filter: drop-shadow(0px 1px 2px rgba(0, 0, 0, 0.3));\n",
              "      fill: #FFFFFF;\n",
              "    }\n",
              "  </style>\n",
              "\n",
              "      <script>\n",
              "        const buttonEl =\n",
              "          document.querySelector('#df-45c7e1d7-b94e-4ba5-9505-cef94dd2d6d9 button.colab-df-convert');\n",
              "        buttonEl.style.display =\n",
              "          google.colab.kernel.accessAllowed ? 'block' : 'none';\n",
              "\n",
              "        async function convertToInteractive(key) {\n",
              "          const element = document.querySelector('#df-45c7e1d7-b94e-4ba5-9505-cef94dd2d6d9');\n",
              "          const dataTable =\n",
              "            await google.colab.kernel.invokeFunction('convertToInteractive',\n",
              "                                                     [key], {});\n",
              "          if (!dataTable) return;\n",
              "\n",
              "          const docLinkHtml = 'Like what you see? Visit the ' +\n",
              "            '<a target=\"_blank\" href=https://colab.research.google.com/notebooks/data_table.ipynb>data table notebook</a>'\n",
              "            + ' to learn more about interactive tables.';\n",
              "          element.innerHTML = '';\n",
              "          dataTable['output_type'] = 'display_data';\n",
              "          await google.colab.output.renderOutput(dataTable, element);\n",
              "          const docLink = document.createElement('div');\n",
              "          docLink.innerHTML = docLinkHtml;\n",
              "          element.appendChild(docLink);\n",
              "        }\n",
              "      </script>\n",
              "    </div>\n",
              "  </div>\n",
              "  "
            ]
          },
          "metadata": {},
          "execution_count": 10
        }
      ]
    },
    {
      "cell_type": "code",
      "source": [
        "df.shape"
      ],
      "metadata": {
        "colab": {
          "base_uri": "https://localhost:8080/"
        },
        "id": "NWQWcSGLBxmW",
        "outputId": "c37cc204-b57c-47c6-9ca0-9b116c6857b7"
      },
      "execution_count": 11,
      "outputs": [
        {
          "output_type": "execute_result",
          "data": {
            "text/plain": [
              "(400, 26)"
            ]
          },
          "metadata": {},
          "execution_count": 11
        }
      ]
    },
    {
      "cell_type": "code",
      "source": [
        "columns_to_retain = ['sg','al','sc','hemo','pcv','wbcc','rbcc','htn','classification']\n",
        "df = df.drop( [col for col in df.columns if not col in columns_to_retain] , axis=1 )\n",
        "df = df.dropna(axis=0)\n"
      ],
      "metadata": {
        "id": "McYVWaFxB4to"
      },
      "execution_count": 12,
      "outputs": []
    },
    {
      "cell_type": "code",
      "source": [
        "for column in df.columns:\n",
        "    if df[column].dtype == np.number:\n",
        "      continue\n",
        "    df[column] = LabelEncoder().fit_transform( df[column] )\n"
      ],
      "metadata": {
        "colab": {
          "base_uri": "https://localhost:8080/"
        },
        "id": "ZFBXX63AB41d",
        "outputId": "45ad510f-cc98-4cfb-c09c-952a8d4bffe2"
      },
      "execution_count": 13,
      "outputs": [
        {
          "output_type": "stream",
          "name": "stderr",
          "text": [
            "<ipython-input-13-aeba061634c7>:2: DeprecationWarning: Converting `np.inexact` or `np.floating` to a dtype is deprecated. The current result is `float64` which is not strictly correct.\n",
            "  if df[column].dtype == np.number:\n",
            "<ipython-input-13-aeba061634c7>:2: DeprecationWarning: Converting `np.inexact` or `np.floating` to a dtype is deprecated. The current result is `float64` which is not strictly correct.\n",
            "  if df[column].dtype == np.number:\n",
            "<ipython-input-13-aeba061634c7>:2: DeprecationWarning: Converting `np.inexact` or `np.floating` to a dtype is deprecated. The current result is `float64` which is not strictly correct.\n",
            "  if df[column].dtype == np.number:\n"
          ]
        }
      ]
    },
    {
      "cell_type": "code",
      "source": [
        "df.head()"
      ],
      "metadata": {
        "colab": {
          "base_uri": "https://localhost:8080/",
          "height": 206
        },
        "id": "oN7ViGoUB44o",
        "outputId": "cabfca9e-dc65-424a-b17d-3abafed68e0d"
      },
      "execution_count": 14,
      "outputs": [
        {
          "output_type": "execute_result",
          "data": {
            "text/plain": [
              "      sg   al   sc  hemo  pcv  htn  classification\n",
              "0  1.020  1.0  1.2  15.4   28    1               0\n",
              "1  1.020  4.0  0.8  11.3   22    0               0\n",
              "2  1.010  2.0  1.8   9.6   15    0               0\n",
              "3  1.005  4.0  3.8  11.2   16    1               0\n",
              "4  1.010  2.0  1.4  11.6   19    0               0"
            ],
            "text/html": [
              "\n",
              "  <div id=\"df-de40b71e-4029-4a9a-a8fe-3d53a1ab2df7\">\n",
              "    <div class=\"colab-df-container\">\n",
              "      <div>\n",
              "<style scoped>\n",
              "    .dataframe tbody tr th:only-of-type {\n",
              "        vertical-align: middle;\n",
              "    }\n",
              "\n",
              "    .dataframe tbody tr th {\n",
              "        vertical-align: top;\n",
              "    }\n",
              "\n",
              "    .dataframe thead th {\n",
              "        text-align: right;\n",
              "    }\n",
              "</style>\n",
              "<table border=\"1\" class=\"dataframe\">\n",
              "  <thead>\n",
              "    <tr style=\"text-align: right;\">\n",
              "      <th></th>\n",
              "      <th>sg</th>\n",
              "      <th>al</th>\n",
              "      <th>sc</th>\n",
              "      <th>hemo</th>\n",
              "      <th>pcv</th>\n",
              "      <th>htn</th>\n",
              "      <th>classification</th>\n",
              "    </tr>\n",
              "  </thead>\n",
              "  <tbody>\n",
              "    <tr>\n",
              "      <th>0</th>\n",
              "      <td>1.020</td>\n",
              "      <td>1.0</td>\n",
              "      <td>1.2</td>\n",
              "      <td>15.4</td>\n",
              "      <td>28</td>\n",
              "      <td>1</td>\n",
              "      <td>0</td>\n",
              "    </tr>\n",
              "    <tr>\n",
              "      <th>1</th>\n",
              "      <td>1.020</td>\n",
              "      <td>4.0</td>\n",
              "      <td>0.8</td>\n",
              "      <td>11.3</td>\n",
              "      <td>22</td>\n",
              "      <td>0</td>\n",
              "      <td>0</td>\n",
              "    </tr>\n",
              "    <tr>\n",
              "      <th>2</th>\n",
              "      <td>1.010</td>\n",
              "      <td>2.0</td>\n",
              "      <td>1.8</td>\n",
              "      <td>9.6</td>\n",
              "      <td>15</td>\n",
              "      <td>0</td>\n",
              "      <td>0</td>\n",
              "    </tr>\n",
              "    <tr>\n",
              "      <th>3</th>\n",
              "      <td>1.005</td>\n",
              "      <td>4.0</td>\n",
              "      <td>3.8</td>\n",
              "      <td>11.2</td>\n",
              "      <td>16</td>\n",
              "      <td>1</td>\n",
              "      <td>0</td>\n",
              "    </tr>\n",
              "    <tr>\n",
              "      <th>4</th>\n",
              "      <td>1.010</td>\n",
              "      <td>2.0</td>\n",
              "      <td>1.4</td>\n",
              "      <td>11.6</td>\n",
              "      <td>19</td>\n",
              "      <td>0</td>\n",
              "      <td>0</td>\n",
              "    </tr>\n",
              "  </tbody>\n",
              "</table>\n",
              "</div>\n",
              "      <button class=\"colab-df-convert\" onclick=\"convertToInteractive('df-de40b71e-4029-4a9a-a8fe-3d53a1ab2df7')\"\n",
              "              title=\"Convert this dataframe to an interactive table.\"\n",
              "              style=\"display:none;\">\n",
              "        \n",
              "  <svg xmlns=\"http://www.w3.org/2000/svg\" height=\"24px\"viewBox=\"0 0 24 24\"\n",
              "       width=\"24px\">\n",
              "    <path d=\"M0 0h24v24H0V0z\" fill=\"none\"/>\n",
              "    <path d=\"M18.56 5.44l.94 2.06.94-2.06 2.06-.94-2.06-.94-.94-2.06-.94 2.06-2.06.94zm-11 1L8.5 8.5l.94-2.06 2.06-.94-2.06-.94L8.5 2.5l-.94 2.06-2.06.94zm10 10l.94 2.06.94-2.06 2.06-.94-2.06-.94-.94-2.06-.94 2.06-2.06.94z\"/><path d=\"M17.41 7.96l-1.37-1.37c-.4-.4-.92-.59-1.43-.59-.52 0-1.04.2-1.43.59L10.3 9.45l-7.72 7.72c-.78.78-.78 2.05 0 2.83L4 21.41c.39.39.9.59 1.41.59.51 0 1.02-.2 1.41-.59l7.78-7.78 2.81-2.81c.8-.78.8-2.07 0-2.86zM5.41 20L4 18.59l7.72-7.72 1.47 1.35L5.41 20z\"/>\n",
              "  </svg>\n",
              "      </button>\n",
              "      \n",
              "  <style>\n",
              "    .colab-df-container {\n",
              "      display:flex;\n",
              "      flex-wrap:wrap;\n",
              "      gap: 12px;\n",
              "    }\n",
              "\n",
              "    .colab-df-convert {\n",
              "      background-color: #E8F0FE;\n",
              "      border: none;\n",
              "      border-radius: 50%;\n",
              "      cursor: pointer;\n",
              "      display: none;\n",
              "      fill: #1967D2;\n",
              "      height: 32px;\n",
              "      padding: 0 0 0 0;\n",
              "      width: 32px;\n",
              "    }\n",
              "\n",
              "    .colab-df-convert:hover {\n",
              "      background-color: #E2EBFA;\n",
              "      box-shadow: 0px 1px 2px rgba(60, 64, 67, 0.3), 0px 1px 3px 1px rgba(60, 64, 67, 0.15);\n",
              "      fill: #174EA6;\n",
              "    }\n",
              "\n",
              "    [theme=dark] .colab-df-convert {\n",
              "      background-color: #3B4455;\n",
              "      fill: #D2E3FC;\n",
              "    }\n",
              "\n",
              "    [theme=dark] .colab-df-convert:hover {\n",
              "      background-color: #434B5C;\n",
              "      box-shadow: 0px 1px 3px 1px rgba(0, 0, 0, 0.15);\n",
              "      filter: drop-shadow(0px 1px 2px rgba(0, 0, 0, 0.3));\n",
              "      fill: #FFFFFF;\n",
              "    }\n",
              "  </style>\n",
              "\n",
              "      <script>\n",
              "        const buttonEl =\n",
              "          document.querySelector('#df-de40b71e-4029-4a9a-a8fe-3d53a1ab2df7 button.colab-df-convert');\n",
              "        buttonEl.style.display =\n",
              "          google.colab.kernel.accessAllowed ? 'block' : 'none';\n",
              "\n",
              "        async function convertToInteractive(key) {\n",
              "          const element = document.querySelector('#df-de40b71e-4029-4a9a-a8fe-3d53a1ab2df7');\n",
              "          const dataTable =\n",
              "            await google.colab.kernel.invokeFunction('convertToInteractive',\n",
              "                                                     [key], {});\n",
              "          if (!dataTable) return;\n",
              "\n",
              "          const docLinkHtml = 'Like what you see? Visit the ' +\n",
              "            '<a target=\"_blank\" href=https://colab.research.google.com/notebooks/data_table.ipynb>data table notebook</a>'\n",
              "            + ' to learn more about interactive tables.';\n",
              "          element.innerHTML = '';\n",
              "          dataTable['output_type'] = 'display_data';\n",
              "          await google.colab.output.renderOutput(dataTable, element);\n",
              "          const docLink = document.createElement('div');\n",
              "          docLink.innerHTML = docLinkHtml;\n",
              "          element.appendChild(docLink);\n",
              "        }\n",
              "      </script>\n",
              "    </div>\n",
              "  </div>\n",
              "  "
            ]
          },
          "metadata": {},
          "execution_count": 14
        }
      ]
    },
    {
      "cell_type": "code",
      "source": [
        "x = df.drop(['classification'],axis=1)\n",
        "y = df['classification']\n"
      ],
      "metadata": {
        "id": "QJSvmSY3B48L"
      },
      "execution_count": 15,
      "outputs": []
    },
    {
      "cell_type": "code",
      "source": [
        "x_scaler = MinMaxScaler()\n",
        "x_scaler.fit(x)\n",
        "column_names = x.columns\n",
        "x[column_names] = x_scaler.transform(x)"
      ],
      "metadata": {
        "id": "1wYR7NQECLyj"
      },
      "execution_count": 16,
      "outputs": []
    },
    {
      "cell_type": "code",
      "source": [
        "x_train, x_test, y_train, y_test = train_test_split(x,y,test_size=0.4, shuffle=True)\n"
      ],
      "metadata": {
        "id": "ued7N76fCL1h"
      },
      "execution_count": 17,
      "outputs": []
    },
    {
      "cell_type": "code",
      "source": [
        "model = Sequential()\n",
        "model.add( Dense(256, input_dim= len(x.columns), kernel_initializer=k.initializers.random_normal(seed=13), activation='relu'))\n",
        "model.add( Dense(1, activation='hard_sigmoid'))\n"
      ],
      "metadata": {
        "id": "jhNu1v9GCL4h"
      },
      "execution_count": 18,
      "outputs": []
    },
    {
      "cell_type": "code",
      "source": [
        "model.compile(loss='binary_crossentropy', optimizer='adam', metrics=['accuracy'])"
      ],
      "metadata": {
        "id": "cQTIjMsfCL78"
      },
      "execution_count": 19,
      "outputs": []
    },
    {
      "cell_type": "code",
      "source": [
        "history = model.fit(x_train, y_train, epochs=200, batch_size= x_train.shape[0])\n"
      ],
      "metadata": {
        "colab": {
          "base_uri": "https://localhost:8080/"
        },
        "id": "XpqagJQSCfkF",
        "outputId": "2fa4512e-fa53-42d6-bb1e-c70f8a2fe49e"
      },
      "execution_count": 20,
      "outputs": [
        {
          "output_type": "stream",
          "name": "stdout",
          "text": [
            "Epoch 1/200\n",
            "1/1 [==============================] - 1s 1s/step - loss: 0.6909 - accuracy: 0.5349\n",
            "Epoch 2/200\n",
            "1/1 [==============================] - 0s 15ms/step - loss: 0.6838 - accuracy: 0.9419\n",
            "Epoch 3/200\n",
            "1/1 [==============================] - 0s 15ms/step - loss: 0.6768 - accuracy: 0.9128\n",
            "Epoch 4/200\n",
            "1/1 [==============================] - 0s 13ms/step - loss: 0.6699 - accuracy: 0.8953\n",
            "Epoch 5/200\n",
            "1/1 [==============================] - 0s 16ms/step - loss: 0.6631 - accuracy: 0.8895\n",
            "Epoch 6/200\n",
            "1/1 [==============================] - 0s 11ms/step - loss: 0.6564 - accuracy: 0.8895\n",
            "Epoch 7/200\n",
            "1/1 [==============================] - 0s 13ms/step - loss: 0.6498 - accuracy: 0.8779\n",
            "Epoch 8/200\n",
            "1/1 [==============================] - 0s 12ms/step - loss: 0.6432 - accuracy: 0.8779\n",
            "Epoch 9/200\n",
            "1/1 [==============================] - 0s 11ms/step - loss: 0.6367 - accuracy: 0.8779\n",
            "Epoch 10/200\n",
            "1/1 [==============================] - 0s 16ms/step - loss: 0.6303 - accuracy: 0.8779\n",
            "Epoch 11/200\n",
            "1/1 [==============================] - 0s 8ms/step - loss: 0.6240 - accuracy: 0.8779\n",
            "Epoch 12/200\n",
            "1/1 [==============================] - 0s 10ms/step - loss: 0.6177 - accuracy: 0.8779\n",
            "Epoch 13/200\n",
            "1/1 [==============================] - 0s 13ms/step - loss: 0.6115 - accuracy: 0.8779\n",
            "Epoch 14/200\n",
            "1/1 [==============================] - 0s 11ms/step - loss: 0.6053 - accuracy: 0.8779\n",
            "Epoch 15/200\n",
            "1/1 [==============================] - 0s 10ms/step - loss: 0.5991 - accuracy: 0.8779\n",
            "Epoch 16/200\n",
            "1/1 [==============================] - 0s 11ms/step - loss: 0.5929 - accuracy: 0.8779\n",
            "Epoch 17/200\n",
            "1/1 [==============================] - 0s 11ms/step - loss: 0.5867 - accuracy: 0.8779\n",
            "Epoch 18/200\n",
            "1/1 [==============================] - 0s 11ms/step - loss: 0.5805 - accuracy: 0.8779\n",
            "Epoch 19/200\n",
            "1/1 [==============================] - 0s 10ms/step - loss: 0.5743 - accuracy: 0.8779\n",
            "Epoch 20/200\n",
            "1/1 [==============================] - 0s 10ms/step - loss: 0.5682 - accuracy: 0.8779\n",
            "Epoch 21/200\n",
            "1/1 [==============================] - 0s 10ms/step - loss: 0.5620 - accuracy: 0.8779\n",
            "Epoch 22/200\n",
            "1/1 [==============================] - 0s 10ms/step - loss: 0.5558 - accuracy: 0.8779\n",
            "Epoch 23/200\n",
            "1/1 [==============================] - 0s 11ms/step - loss: 0.5496 - accuracy: 0.8779\n",
            "Epoch 24/200\n",
            "1/1 [==============================] - 0s 11ms/step - loss: 0.5433 - accuracy: 0.8779\n",
            "Epoch 25/200\n",
            "1/1 [==============================] - 0s 10ms/step - loss: 0.5370 - accuracy: 0.8779\n",
            "Epoch 26/200\n",
            "1/1 [==============================] - 0s 10ms/step - loss: 0.5307 - accuracy: 0.8779\n",
            "Epoch 27/200\n",
            "1/1 [==============================] - 0s 11ms/step - loss: 0.5242 - accuracy: 0.8837\n",
            "Epoch 28/200\n",
            "1/1 [==============================] - 0s 11ms/step - loss: 0.5178 - accuracy: 0.8837\n",
            "Epoch 29/200\n",
            "1/1 [==============================] - 0s 11ms/step - loss: 0.5113 - accuracy: 0.8837\n",
            "Epoch 30/200\n",
            "1/1 [==============================] - 0s 10ms/step - loss: 0.5048 - accuracy: 0.8837\n",
            "Epoch 31/200\n",
            "1/1 [==============================] - 0s 10ms/step - loss: 0.4982 - accuracy: 0.8837\n",
            "Epoch 32/200\n",
            "1/1 [==============================] - 0s 11ms/step - loss: 0.4917 - accuracy: 0.8837\n",
            "Epoch 33/200\n",
            "1/1 [==============================] - 0s 11ms/step - loss: 0.4851 - accuracy: 0.8837\n",
            "Epoch 34/200\n",
            "1/1 [==============================] - 0s 11ms/step - loss: 0.4785 - accuracy: 0.8837\n",
            "Epoch 35/200\n",
            "1/1 [==============================] - 0s 11ms/step - loss: 0.4718 - accuracy: 0.8837\n",
            "Epoch 36/200\n",
            "1/1 [==============================] - 0s 12ms/step - loss: 0.4651 - accuracy: 0.8837\n",
            "Epoch 37/200\n",
            "1/1 [==============================] - 0s 13ms/step - loss: 0.4583 - accuracy: 0.8837\n",
            "Epoch 38/200\n",
            "1/1 [==============================] - 0s 10ms/step - loss: 0.4514 - accuracy: 0.8837\n",
            "Epoch 39/200\n",
            "1/1 [==============================] - 0s 10ms/step - loss: 0.4445 - accuracy: 0.8895\n",
            "Epoch 40/200\n",
            "1/1 [==============================] - 0s 11ms/step - loss: 0.4375 - accuracy: 0.8895\n",
            "Epoch 41/200\n",
            "1/1 [==============================] - 0s 10ms/step - loss: 0.4305 - accuracy: 0.8953\n",
            "Epoch 42/200\n",
            "1/1 [==============================] - 0s 10ms/step - loss: 0.4235 - accuracy: 0.8953\n",
            "Epoch 43/200\n",
            "1/1 [==============================] - 0s 12ms/step - loss: 0.4164 - accuracy: 0.8953\n",
            "Epoch 44/200\n",
            "1/1 [==============================] - 0s 10ms/step - loss: 0.4092 - accuracy: 0.8953\n",
            "Epoch 45/200\n",
            "1/1 [==============================] - 0s 11ms/step - loss: 0.4020 - accuracy: 0.8953\n",
            "Epoch 46/200\n",
            "1/1 [==============================] - 0s 11ms/step - loss: 0.3948 - accuracy: 0.8953\n",
            "Epoch 47/200\n",
            "1/1 [==============================] - 0s 11ms/step - loss: 0.3876 - accuracy: 0.8953\n",
            "Epoch 48/200\n",
            "1/1 [==============================] - 0s 10ms/step - loss: 0.3803 - accuracy: 0.8953\n",
            "Epoch 49/200\n",
            "1/1 [==============================] - 0s 11ms/step - loss: 0.3729 - accuracy: 0.8953\n",
            "Epoch 50/200\n",
            "1/1 [==============================] - 0s 11ms/step - loss: 0.3656 - accuracy: 0.8953\n",
            "Epoch 51/200\n",
            "1/1 [==============================] - 0s 11ms/step - loss: 0.3581 - accuracy: 0.8953\n",
            "Epoch 52/200\n",
            "1/1 [==============================] - 0s 10ms/step - loss: 0.3507 - accuracy: 0.8953\n",
            "Epoch 53/200\n",
            "1/1 [==============================] - 0s 11ms/step - loss: 0.3432 - accuracy: 0.8953\n",
            "Epoch 54/200\n",
            "1/1 [==============================] - 0s 11ms/step - loss: 0.3357 - accuracy: 0.8953\n",
            "Epoch 55/200\n",
            "1/1 [==============================] - 0s 11ms/step - loss: 0.3283 - accuracy: 0.9012\n",
            "Epoch 56/200\n",
            "1/1 [==============================] - 0s 10ms/step - loss: 0.3209 - accuracy: 0.9012\n",
            "Epoch 57/200\n",
            "1/1 [==============================] - 0s 10ms/step - loss: 0.3135 - accuracy: 0.9012\n",
            "Epoch 58/200\n",
            "1/1 [==============================] - 0s 10ms/step - loss: 0.3063 - accuracy: 0.9012\n",
            "Epoch 59/200\n",
            "1/1 [==============================] - 0s 10ms/step - loss: 0.2992 - accuracy: 0.9070\n",
            "Epoch 60/200\n",
            "1/1 [==============================] - 0s 10ms/step - loss: 0.2923 - accuracy: 0.9070\n",
            "Epoch 61/200\n",
            "1/1 [==============================] - 0s 11ms/step - loss: 0.2855 - accuracy: 0.9070\n",
            "Epoch 62/200\n",
            "1/1 [==============================] - 0s 10ms/step - loss: 0.2788 - accuracy: 0.9070\n",
            "Epoch 63/200\n",
            "1/1 [==============================] - 0s 11ms/step - loss: 0.2723 - accuracy: 0.9070\n",
            "Epoch 64/200\n",
            "1/1 [==============================] - 0s 11ms/step - loss: 0.2659 - accuracy: 0.9070\n",
            "Epoch 65/200\n",
            "1/1 [==============================] - 0s 14ms/step - loss: 0.2597 - accuracy: 0.9070\n",
            "Epoch 66/200\n",
            "1/1 [==============================] - 0s 11ms/step - loss: 0.2537 - accuracy: 0.9070\n",
            "Epoch 67/200\n",
            "1/1 [==============================] - 0s 15ms/step - loss: 0.2479 - accuracy: 0.9070\n",
            "Epoch 68/200\n",
            "1/1 [==============================] - 0s 10ms/step - loss: 0.2424 - accuracy: 0.9070\n",
            "Epoch 69/200\n",
            "1/1 [==============================] - 0s 10ms/step - loss: 0.2371 - accuracy: 0.9070\n",
            "Epoch 70/200\n",
            "1/1 [==============================] - 0s 11ms/step - loss: 0.2320 - accuracy: 0.9070\n",
            "Epoch 71/200\n",
            "1/1 [==============================] - 0s 11ms/step - loss: 0.2270 - accuracy: 0.9070\n",
            "Epoch 72/200\n",
            "1/1 [==============================] - 0s 12ms/step - loss: 0.2220 - accuracy: 0.9070\n",
            "Epoch 73/200\n",
            "1/1 [==============================] - 0s 13ms/step - loss: 0.2172 - accuracy: 0.9070\n",
            "Epoch 74/200\n",
            "1/1 [==============================] - 0s 12ms/step - loss: 0.2126 - accuracy: 0.9070\n",
            "Epoch 75/200\n",
            "1/1 [==============================] - 0s 12ms/step - loss: 0.2080 - accuracy: 0.9070\n",
            "Epoch 76/200\n",
            "1/1 [==============================] - 0s 13ms/step - loss: 0.2036 - accuracy: 0.9070\n",
            "Epoch 77/200\n",
            "1/1 [==============================] - 0s 17ms/step - loss: 0.1994 - accuracy: 0.9070\n",
            "Epoch 78/200\n",
            "1/1 [==============================] - 0s 14ms/step - loss: 0.1954 - accuracy: 0.9070\n",
            "Epoch 79/200\n",
            "1/1 [==============================] - 0s 11ms/step - loss: 0.1916 - accuracy: 0.9070\n",
            "Epoch 80/200\n",
            "1/1 [==============================] - 0s 13ms/step - loss: 0.1881 - accuracy: 0.9128\n",
            "Epoch 81/200\n",
            "1/1 [==============================] - 0s 14ms/step - loss: 0.1847 - accuracy: 0.9128\n",
            "Epoch 82/200\n",
            "1/1 [==============================] - 0s 13ms/step - loss: 0.1814 - accuracy: 0.9128\n",
            "Epoch 83/200\n",
            "1/1 [==============================] - 0s 10ms/step - loss: 0.1783 - accuracy: 0.9128\n",
            "Epoch 84/200\n",
            "1/1 [==============================] - 0s 10ms/step - loss: 0.1754 - accuracy: 0.9128\n",
            "Epoch 85/200\n",
            "1/1 [==============================] - 0s 9ms/step - loss: 0.1726 - accuracy: 0.9186\n",
            "Epoch 86/200\n",
            "1/1 [==============================] - 0s 10ms/step - loss: 0.1701 - accuracy: 0.9186\n",
            "Epoch 87/200\n",
            "1/1 [==============================] - 0s 10ms/step - loss: 0.1676 - accuracy: 0.9186\n",
            "Epoch 88/200\n",
            "1/1 [==============================] - 0s 10ms/step - loss: 0.1653 - accuracy: 0.9186\n",
            "Epoch 89/200\n",
            "1/1 [==============================] - 0s 9ms/step - loss: 0.1630 - accuracy: 0.9186\n",
            "Epoch 90/200\n",
            "1/1 [==============================] - 0s 11ms/step - loss: 0.1607 - accuracy: 0.9186\n",
            "Epoch 91/200\n",
            "1/1 [==============================] - 0s 10ms/step - loss: 0.1587 - accuracy: 0.9186\n",
            "Epoch 92/200\n",
            "1/1 [==============================] - 0s 10ms/step - loss: 0.1568 - accuracy: 0.9186\n",
            "Epoch 93/200\n",
            "1/1 [==============================] - 0s 13ms/step - loss: 0.1549 - accuracy: 0.9186\n",
            "Epoch 94/200\n",
            "1/1 [==============================] - 0s 12ms/step - loss: 0.1531 - accuracy: 0.9244\n",
            "Epoch 95/200\n",
            "1/1 [==============================] - 0s 11ms/step - loss: 0.1512 - accuracy: 0.9244\n",
            "Epoch 96/200\n",
            "1/1 [==============================] - 0s 11ms/step - loss: 0.1495 - accuracy: 0.9244\n",
            "Epoch 97/200\n",
            "1/1 [==============================] - 0s 11ms/step - loss: 0.1478 - accuracy: 0.9244\n",
            "Epoch 98/200\n",
            "1/1 [==============================] - 0s 11ms/step - loss: 0.1462 - accuracy: 0.9244\n",
            "Epoch 99/200\n",
            "1/1 [==============================] - 0s 12ms/step - loss: 0.1446 - accuracy: 0.9302\n",
            "Epoch 100/200\n",
            "1/1 [==============================] - 0s 11ms/step - loss: 0.1430 - accuracy: 0.9302\n",
            "Epoch 101/200\n",
            "1/1 [==============================] - 0s 11ms/step - loss: 0.1415 - accuracy: 0.9302\n",
            "Epoch 102/200\n",
            "1/1 [==============================] - 0s 12ms/step - loss: 0.1400 - accuracy: 0.9360\n",
            "Epoch 103/200\n",
            "1/1 [==============================] - 0s 12ms/step - loss: 0.1386 - accuracy: 0.9360\n",
            "Epoch 104/200\n",
            "1/1 [==============================] - 0s 11ms/step - loss: 0.1372 - accuracy: 0.9360\n",
            "Epoch 105/200\n",
            "1/1 [==============================] - 0s 12ms/step - loss: 0.1359 - accuracy: 0.9360\n",
            "Epoch 106/200\n",
            "1/1 [==============================] - 0s 11ms/step - loss: 0.1346 - accuracy: 0.9360\n",
            "Epoch 107/200\n",
            "1/1 [==============================] - 0s 11ms/step - loss: 0.1334 - accuracy: 0.9360\n",
            "Epoch 108/200\n",
            "1/1 [==============================] - 0s 12ms/step - loss: 0.1322 - accuracy: 0.9419\n",
            "Epoch 109/200\n",
            "1/1 [==============================] - 0s 12ms/step - loss: 0.1310 - accuracy: 0.9419\n",
            "Epoch 110/200\n",
            "1/1 [==============================] - 0s 11ms/step - loss: 0.1298 - accuracy: 0.9419\n",
            "Epoch 111/200\n",
            "1/1 [==============================] - 0s 13ms/step - loss: 0.1287 - accuracy: 0.9477\n",
            "Epoch 112/200\n",
            "1/1 [==============================] - 0s 13ms/step - loss: 0.1275 - accuracy: 0.9477\n",
            "Epoch 113/200\n",
            "1/1 [==============================] - 0s 14ms/step - loss: 0.1264 - accuracy: 0.9477\n",
            "Epoch 114/200\n",
            "1/1 [==============================] - 0s 13ms/step - loss: 0.1253 - accuracy: 0.9477\n",
            "Epoch 115/200\n",
            "1/1 [==============================] - 0s 10ms/step - loss: 0.1242 - accuracy: 0.9477\n",
            "Epoch 116/200\n",
            "1/1 [==============================] - 0s 12ms/step - loss: 0.1232 - accuracy: 0.9477\n",
            "Epoch 117/200\n",
            "1/1 [==============================] - 0s 12ms/step - loss: 0.1221 - accuracy: 0.9477\n",
            "Epoch 118/200\n",
            "1/1 [==============================] - 0s 13ms/step - loss: 0.1211 - accuracy: 0.9477\n",
            "Epoch 119/200\n",
            "1/1 [==============================] - 0s 11ms/step - loss: 0.1200 - accuracy: 0.9477\n",
            "Epoch 120/200\n",
            "1/1 [==============================] - 0s 10ms/step - loss: 0.1190 - accuracy: 0.9477\n",
            "Epoch 121/200\n",
            "1/1 [==============================] - 0s 9ms/step - loss: 0.1180 - accuracy: 0.9477\n",
            "Epoch 122/200\n",
            "1/1 [==============================] - 0s 10ms/step - loss: 0.1169 - accuracy: 0.9535\n",
            "Epoch 123/200\n",
            "1/1 [==============================] - 0s 10ms/step - loss: 0.1159 - accuracy: 0.9535\n",
            "Epoch 124/200\n",
            "1/1 [==============================] - 0s 10ms/step - loss: 0.1150 - accuracy: 0.9535\n",
            "Epoch 125/200\n",
            "1/1 [==============================] - 0s 11ms/step - loss: 0.1140 - accuracy: 0.9535\n",
            "Epoch 126/200\n",
            "1/1 [==============================] - 0s 10ms/step - loss: 0.1130 - accuracy: 0.9535\n",
            "Epoch 127/200\n",
            "1/1 [==============================] - 0s 10ms/step - loss: 0.1121 - accuracy: 0.9535\n",
            "Epoch 128/200\n",
            "1/1 [==============================] - 0s 11ms/step - loss: 0.1111 - accuracy: 0.9535\n",
            "Epoch 129/200\n",
            "1/1 [==============================] - 0s 10ms/step - loss: 0.1102 - accuracy: 0.9535\n",
            "Epoch 130/200\n",
            "1/1 [==============================] - 0s 11ms/step - loss: 0.1092 - accuracy: 0.9535\n",
            "Epoch 131/200\n",
            "1/1 [==============================] - 0s 16ms/step - loss: 0.1083 - accuracy: 0.9535\n",
            "Epoch 132/200\n",
            "1/1 [==============================] - 0s 16ms/step - loss: 0.1074 - accuracy: 0.9535\n",
            "Epoch 133/200\n",
            "1/1 [==============================] - 0s 12ms/step - loss: 0.1065 - accuracy: 0.9535\n",
            "Epoch 134/200\n",
            "1/1 [==============================] - 0s 11ms/step - loss: 0.1056 - accuracy: 0.9535\n",
            "Epoch 135/200\n",
            "1/1 [==============================] - 0s 12ms/step - loss: 0.1047 - accuracy: 0.9535\n",
            "Epoch 136/200\n",
            "1/1 [==============================] - 0s 12ms/step - loss: 0.1038 - accuracy: 0.9535\n",
            "Epoch 137/200\n",
            "1/1 [==============================] - 0s 11ms/step - loss: 0.1030 - accuracy: 0.9535\n",
            "Epoch 138/200\n",
            "1/1 [==============================] - 0s 12ms/step - loss: 0.1022 - accuracy: 0.9535\n",
            "Epoch 139/200\n",
            "1/1 [==============================] - 0s 12ms/step - loss: 0.1013 - accuracy: 0.9535\n",
            "Epoch 140/200\n",
            "1/1 [==============================] - 0s 12ms/step - loss: 0.1005 - accuracy: 0.9535\n",
            "Epoch 141/200\n",
            "1/1 [==============================] - 0s 11ms/step - loss: 0.0998 - accuracy: 0.9535\n",
            "Epoch 142/200\n",
            "1/1 [==============================] - 0s 11ms/step - loss: 0.0990 - accuracy: 0.9535\n",
            "Epoch 143/200\n",
            "1/1 [==============================] - 0s 10ms/step - loss: 0.0983 - accuracy: 0.9535\n",
            "Epoch 144/200\n",
            "1/1 [==============================] - 0s 11ms/step - loss: 0.0976 - accuracy: 0.9535\n",
            "Epoch 145/200\n",
            "1/1 [==============================] - 0s 12ms/step - loss: 0.0968 - accuracy: 0.9535\n",
            "Epoch 146/200\n",
            "1/1 [==============================] - 0s 11ms/step - loss: 0.0961 - accuracy: 0.9535\n",
            "Epoch 147/200\n",
            "1/1 [==============================] - 0s 11ms/step - loss: 0.0954 - accuracy: 0.9535\n",
            "Epoch 148/200\n",
            "1/1 [==============================] - 0s 10ms/step - loss: 0.0947 - accuracy: 0.9535\n",
            "Epoch 149/200\n",
            "1/1 [==============================] - 0s 11ms/step - loss: 0.0940 - accuracy: 0.9535\n",
            "Epoch 150/200\n",
            "1/1 [==============================] - 0s 11ms/step - loss: 0.0933 - accuracy: 0.9593\n",
            "Epoch 151/200\n",
            "1/1 [==============================] - 0s 10ms/step - loss: 0.0926 - accuracy: 0.9593\n",
            "Epoch 152/200\n",
            "1/1 [==============================] - 0s 11ms/step - loss: 0.0920 - accuracy: 0.9593\n",
            "Epoch 153/200\n",
            "1/1 [==============================] - 0s 11ms/step - loss: 0.0913 - accuracy: 0.9593\n",
            "Epoch 154/200\n",
            "1/1 [==============================] - 0s 10ms/step - loss: 0.0907 - accuracy: 0.9593\n",
            "Epoch 155/200\n",
            "1/1 [==============================] - 0s 11ms/step - loss: 0.0901 - accuracy: 0.9593\n",
            "Epoch 156/200\n",
            "1/1 [==============================] - 0s 11ms/step - loss: 0.0895 - accuracy: 0.9593\n",
            "Epoch 157/200\n",
            "1/1 [==============================] - 0s 10ms/step - loss: 0.0889 - accuracy: 0.9593\n",
            "Epoch 158/200\n",
            "1/1 [==============================] - 0s 11ms/step - loss: 0.0883 - accuracy: 0.9593\n",
            "Epoch 159/200\n",
            "1/1 [==============================] - 0s 11ms/step - loss: 0.0877 - accuracy: 0.9593\n",
            "Epoch 160/200\n",
            "1/1 [==============================] - 0s 11ms/step - loss: 0.0871 - accuracy: 0.9593\n",
            "Epoch 161/200\n",
            "1/1 [==============================] - 0s 12ms/step - loss: 0.0866 - accuracy: 0.9593\n",
            "Epoch 162/200\n",
            "1/1 [==============================] - 0s 11ms/step - loss: 0.0860 - accuracy: 0.9593\n",
            "Epoch 163/200\n",
            "1/1 [==============================] - 0s 11ms/step - loss: 0.0855 - accuracy: 0.9593\n",
            "Epoch 164/200\n",
            "1/1 [==============================] - 0s 10ms/step - loss: 0.0849 - accuracy: 0.9593\n",
            "Epoch 165/200\n",
            "1/1 [==============================] - 0s 15ms/step - loss: 0.0844 - accuracy: 0.9593\n",
            "Epoch 166/200\n",
            "1/1 [==============================] - 0s 12ms/step - loss: 0.0838 - accuracy: 0.9593\n",
            "Epoch 167/200\n",
            "1/1 [==============================] - 0s 12ms/step - loss: 0.0833 - accuracy: 0.9593\n",
            "Epoch 168/200\n",
            "1/1 [==============================] - 0s 12ms/step - loss: 0.0827 - accuracy: 0.9593\n",
            "Epoch 169/200\n",
            "1/1 [==============================] - 0s 13ms/step - loss: 0.0822 - accuracy: 0.9593\n",
            "Epoch 170/200\n",
            "1/1 [==============================] - 0s 11ms/step - loss: 0.0817 - accuracy: 0.9593\n",
            "Epoch 171/200\n",
            "1/1 [==============================] - 0s 13ms/step - loss: 0.0811 - accuracy: 0.9593\n",
            "Epoch 172/200\n",
            "1/1 [==============================] - 0s 12ms/step - loss: 0.0806 - accuracy: 0.9593\n",
            "Epoch 173/200\n",
            "1/1 [==============================] - 0s 15ms/step - loss: 0.0801 - accuracy: 0.9651\n",
            "Epoch 174/200\n",
            "1/1 [==============================] - 0s 11ms/step - loss: 0.0796 - accuracy: 0.9709\n",
            "Epoch 175/200\n",
            "1/1 [==============================] - 0s 11ms/step - loss: 0.0790 - accuracy: 0.9709\n",
            "Epoch 176/200\n",
            "1/1 [==============================] - 0s 22ms/step - loss: 0.0785 - accuracy: 0.9709\n",
            "Epoch 177/200\n",
            "1/1 [==============================] - 0s 21ms/step - loss: 0.0780 - accuracy: 0.9709\n",
            "Epoch 178/200\n",
            "1/1 [==============================] - 0s 12ms/step - loss: 0.0775 - accuracy: 0.9709\n",
            "Epoch 179/200\n",
            "1/1 [==============================] - 0s 11ms/step - loss: 0.0770 - accuracy: 0.9709\n",
            "Epoch 180/200\n",
            "1/1 [==============================] - 0s 14ms/step - loss: 0.0766 - accuracy: 0.9709\n",
            "Epoch 181/200\n",
            "1/1 [==============================] - 0s 12ms/step - loss: 0.0761 - accuracy: 0.9709\n",
            "Epoch 182/200\n",
            "1/1 [==============================] - 0s 11ms/step - loss: 0.0756 - accuracy: 0.9709\n",
            "Epoch 183/200\n",
            "1/1 [==============================] - 0s 15ms/step - loss: 0.0751 - accuracy: 0.9709\n",
            "Epoch 184/200\n",
            "1/1 [==============================] - 0s 11ms/step - loss: 0.0746 - accuracy: 0.9709\n",
            "Epoch 185/200\n",
            "1/1 [==============================] - 0s 18ms/step - loss: 0.0742 - accuracy: 0.9709\n",
            "Epoch 186/200\n",
            "1/1 [==============================] - 0s 11ms/step - loss: 0.0737 - accuracy: 0.9709\n",
            "Epoch 187/200\n",
            "1/1 [==============================] - 0s 10ms/step - loss: 0.0733 - accuracy: 0.9709\n",
            "Epoch 188/200\n",
            "1/1 [==============================] - 0s 10ms/step - loss: 0.0729 - accuracy: 0.9709\n",
            "Epoch 189/200\n",
            "1/1 [==============================] - 0s 11ms/step - loss: 0.0725 - accuracy: 0.9709\n",
            "Epoch 190/200\n",
            "1/1 [==============================] - 0s 11ms/step - loss: 0.0720 - accuracy: 0.9709\n",
            "Epoch 191/200\n",
            "1/1 [==============================] - 0s 10ms/step - loss: 0.0716 - accuracy: 0.9709\n",
            "Epoch 192/200\n",
            "1/1 [==============================] - 0s 11ms/step - loss: 0.0712 - accuracy: 0.9709\n",
            "Epoch 193/200\n",
            "1/1 [==============================] - 0s 11ms/step - loss: 0.0708 - accuracy: 0.9709\n",
            "Epoch 194/200\n",
            "1/1 [==============================] - 0s 11ms/step - loss: 0.0704 - accuracy: 0.9709\n",
            "Epoch 195/200\n",
            "1/1 [==============================] - 0s 13ms/step - loss: 0.0700 - accuracy: 0.9709\n",
            "Epoch 196/200\n",
            "1/1 [==============================] - 0s 11ms/step - loss: 0.0696 - accuracy: 0.9709\n",
            "Epoch 197/200\n",
            "1/1 [==============================] - 0s 13ms/step - loss: 0.0692 - accuracy: 0.9709\n",
            "Epoch 198/200\n",
            "1/1 [==============================] - 0s 12ms/step - loss: 0.0688 - accuracy: 0.9709\n",
            "Epoch 199/200\n",
            "1/1 [==============================] - 0s 10ms/step - loss: 0.0684 - accuracy: 0.9709\n",
            "Epoch 200/200\n",
            "1/1 [==============================] - 0s 9ms/step - loss: 0.0680 - accuracy: 0.9709\n"
          ]
        }
      ]
    },
    {
      "cell_type": "code",
      "source": [
        "model.save('ckd.model')"
      ],
      "metadata": {
        "colab": {
          "base_uri": "https://localhost:8080/"
        },
        "id": "h61p0WCqCfnJ",
        "outputId": "3e97c530-372b-4c2a-9b18-2b0e661972eb"
      },
      "execution_count": 25,
      "outputs": [
        {
          "output_type": "stream",
          "name": "stderr",
          "text": [
            "WARNING:absl:Found untraced functions such as _update_step_xla while saving (showing 1 of 1). These functions will not be directly callable after loading.\n"
          ]
        }
      ]
    },
    {
      "cell_type": "code",
      "source": [
        "plt.plot(history.history['accuracy'])\n",
        "plt.plot(history.history['loss'])\n",
        "plt.title('model accuracy & loss')\n",
        "plt.ylabel('accuracy and loss')\n",
        "plt.xlabel('epoch')\n"
      ],
      "metadata": {
        "colab": {
          "base_uri": "https://localhost:8080/",
          "height": 489
        },
        "id": "ija9L_46Cfot",
        "outputId": "c6a4228c-304b-4c13-97c8-bb56803a3316"
      },
      "execution_count": 28,
      "outputs": [
        {
          "output_type": "execute_result",
          "data": {
            "text/plain": [
              "Text(0.5, 0, 'epoch')"
            ]
          },
          "metadata": {},
          "execution_count": 28
        },
        {
          "output_type": "display_data",
          "data": {
            "text/plain": [
              "<Figure size 640x480 with 1 Axes>"
            ],
            "image/png": "[encoded data removed]"
          },
          "metadata": {}
        }
      ]
    },
    {
      "cell_type": "code",
      "source": [
        "print('shape of traning data:',x_train.shape)\n",
        "print('shape of test data:',x_test.shape)\n",
        "\n",
        "     "
      ],
      "metadata": {
        "colab": {
          "base_uri": "https://localhost:8080/"
        },
        "id": "W-cgxLEbCuhi",
        "outputId": "2f08fb61-97b1-44a6-9cdb-608acea25f5a"
      },
      "execution_count": 23,
      "outputs": [
        {
          "output_type": "stream",
          "name": "stdout",
          "text": [
            "shape of traning data: (172, 6)\n",
            "shape of test data: (115, 6)\n"
          ]
        }
      ]
    },
    {
      "cell_type": "code",
      "source": [
        "pred = model.predict(x_test)\n",
        "pred = [1 if y>=0.5 else 0 for y in pred]\n",
        "pred\n",
        "print('Original : {0}'.format(\", \".join(str(x) for x in y_test)))\n",
        "print('Predicted : {0}'.format(\", \".join(str(x) for x in pred)))\n"
      ],
      "metadata": {
        "colab": {
          "base_uri": "https://localhost:8080/"
        },
        "id": "VHHXgS81CukF",
        "outputId": "3e2fc4af-6e6c-405d-f92e-77d0846539e5"
      },
      "execution_count": 24,
      "outputs": [
        {
          "output_type": "stream",
          "name": "stdout",
          "text": [
            "4/4 [==============================] - 0s 3ms/step\n",
            "Original : 0, 1, 0, 1, 1, 0, 0, 0, 0, 1, 0, 1, 1, 0, 0, 0, 1, 1, 0, 0, 1, 1, 1, 1, 1, 0, 1, 0, 1, 0, 0, 1, 1, 1, 0, 1, 1, 0, 0, 1, 1, 0, 1, 0, 1, 0, 0, 1, 0, 0, 1, 1, 0, 1, 0, 1, 0, 0, 0, 0, 0, 1, 0, 0, 0, 0, 1, 1, 1, 1, 0, 1, 0, 0, 1, 1, 0, 1, 1, 0, 1, 0, 1, 0, 1, 0, 0, 0, 1, 0, 0, 0, 0, 0, 1, 0, 0, 0, 1, 0, 0, 1, 1, 1, 1, 0, 1, 1, 0, 1, 0, 0, 0, 0, 0\n",
            "Predicted : 1, 1, 0, 1, 1, 0, 0, 0, 0, 1, 0, 1, 1, 0, 0, 0, 1, 1, 0, 0, 1, 1, 1, 1, 1, 0, 1, 0, 1, 0, 0, 1, 1, 1, 0, 1, 1, 0, 0, 1, 1, 1, 1, 0, 1, 0, 0, 1, 0, 0, 1, 1, 0, 1, 0, 1, 0, 0, 0, 0, 0, 1, 0, 0, 0, 0, 1, 1, 1, 1, 0, 1, 0, 0, 1, 1, 0, 1, 1, 0, 1, 0, 1, 0, 1, 0, 0, 0, 1, 0, 0, 0, 0, 1, 1, 0, 0, 0, 1, 0, 0, 1, 1, 1, 1, 0, 1, 1, 0, 1, 0, 0, 0, 0, 0\n"
          ]
        }
      ]
    },
    {
      "cell_type": "code",
      "source": [
        "from sklearn.neighbors import KNeighborsClassifier\n",
        "from sklearn.metrics import accuracy_score, confusion_matrix, classification_report\n",
        "\n",
        "knn = KNeighborsClassifier()\n",
        "knn.fit(x_train, y_train)\n"
      ],
      "metadata": {
        "colab": {
          "base_uri": "https://localhost:8080/",
          "height": 74
        },
        "id": "mbrKAtEGCunn",
        "outputId": "5e4b6e95-ee30-4061-c006-bde94f4f5424"
      },
      "execution_count": 26,
      "outputs": [
        {
          "output_type": "execute_result",
          "data": {
            "text/plain": [
              "KNeighborsClassifier()"
            ],
            "text/html": [
              "<style>#sk-container-id-1 {color: black;background-color: white;}#sk-container-id-1 pre{padding: 0;}#sk-container-id-1 div.sk-toggleable {background-color: white;}#sk-container-id-1 label.sk-toggleable__label {cursor: pointer;display: block;width: 100%;margin-bottom: 0;padding: 0.3em;box-sizing: border-box;text-align: center;}#sk-container-id-1 label.sk-toggleable__label-arrow:before {content: \"▸\";float: left;margin-right: 0.25em;color: #696969;}#sk-container-id-1 label.sk-toggleable__label-arrow:hover:before {color: black;}#sk-container-id-1 div.sk-estimator:hover label.sk-toggleable__label-arrow:before {color: black;}#sk-container-id-1 div.sk-toggleable__content {max-height: 0;max-width: 0;overflow: hidden;text-align: left;background-color: #f0f8ff;}#sk-container-id-1 div.sk-toggleable__content pre {margin: 0.2em;color: black;border-radius: 0.25em;background-color: #f0f8ff;}#sk-container-id-1 input.sk-toggleable__control:checked~div.sk-toggleable__content {max-height: 200px;max-width: 100%;overflow: auto;}#sk-container-id-1 input.sk-toggleable__control:checked~label.sk-toggleable__label-arrow:before {content: \"▾\";}#sk-container-id-1 div.sk-estimator input.sk-toggleable__control:checked~label.sk-toggleable__label {background-color: #d4ebff;}#sk-container-id-1 div.sk-label input.sk-toggleable__control:checked~label.sk-toggleable__label {background-color: #d4ebff;}#sk-container-id-1 input.sk-hidden--visually {border: 0;clip: rect(1px 1px 1px 1px);clip: rect(1px, 1px, 1px, 1px);height: 1px;margin: -1px;overflow: hidden;padding: 0;position: absolute;width: 1px;}#sk-container-id-1 div.sk-estimator {font-family: monospace;background-color: #f0f8ff;border: 1px dotted black;border-radius: 0.25em;box-sizing: border-box;margin-bottom: 0.5em;}#sk-container-id-1 div.sk-estimator:hover {background-color: #d4ebff;}#sk-container-id-1 div.sk-parallel-item::after {content: \"\";width: 100%;border-bottom: 1px solid gray;flex-grow: 1;}#sk-container-id-1 div.sk-label:hover label.sk-toggleable__label {background-color: #d4ebff;}#sk-container-id-1 div.sk-serial::before {content: \"\";position: absolute;border-left: 1px solid gray;box-sizing: border-box;top: 0;bottom: 0;left: 50%;z-index: 0;}#sk-container-id-1 div.sk-serial {display: flex;flex-direction: column;align-items: center;background-color: white;padding-right: 0.2em;padding-left: 0.2em;position: relative;}#sk-container-id-1 div.sk-item {position: relative;z-index: 1;}#sk-container-id-1 div.sk-parallel {display: flex;align-items: stretch;justify-content: center;background-color: white;position: relative;}#sk-container-id-1 div.sk-item::before, #sk-container-id-1 div.sk-parallel-item::before {content: \"\";position: absolute;border-left: 1px solid gray;box-sizing: border-box;top: 0;bottom: 0;left: 50%;z-index: -1;}#sk-container-id-1 div.sk-parallel-item {display: flex;flex-direction: column;z-index: 1;position: relative;background-color: white;}#sk-container-id-1 div.sk-parallel-item:first-child::after {align-self: flex-end;width: 50%;}#sk-container-id-1 div.sk-parallel-item:last-child::after {align-self: flex-start;width: 50%;}#sk-container-id-1 div.sk-parallel-item:only-child::after {width: 0;}#sk-container-id-1 div.sk-dashed-wrapped {border: 1px dashed gray;margin: 0 0.4em 0.5em 0.4em;box-sizing: border-box;padding-bottom: 0.4em;background-color: white;}#sk-container-id-1 div.sk-label label {font-family: monospace;font-weight: bold;display: inline-block;line-height: 1.2em;}#sk-container-id-1 div.sk-label-container {text-align: center;}#sk-container-id-1 div.sk-container {/* jupyter's `normalize.less` sets `[hidden] { display: none; }` but bootstrap.min.css set `[hidden] { display: none !important; }` so we also need the `!important` here to be able to override the default hidden behavior on the sphinx rendered scikit-learn.org. See: https://github.com/scikit-learn/scikit-learn/issues/21755 */display: inline-block !important;position: relative;}#sk-container-id-1 div.sk-text-repr-fallback {display: none;}</style><div id=\"sk-container-id-1\" class=\"sk-top-container\"><div class=\"sk-text-repr-fallback\"><pre>KNeighborsClassifier()</pre><b>In a Jupyter environment, please rerun this cell to show the HTML representation or trust the notebook. <br />On GitHub, the HTML representation is unable to render, please try loading this page with nbviewer.org.</b></div><div class=\"sk-container\" hidden><div class=\"sk-item\"><div class=\"sk-estimator sk-toggleable\"><input class=\"sk-toggleable__control sk-hidden--visually\" id=\"sk-estimator-id-1\" type=\"checkbox\" checked><label for=\"sk-estimator-id-1\" class=\"sk-toggleable__label sk-toggleable__label-arrow\">KNeighborsClassifier</label><div class=\"sk-toggleable__content\"><pre>KNeighborsClassifier()</pre></div></div></div></div></div>"
            ]
          },
          "metadata": {},
          "execution_count": 26
        }
      ]
    },
    {
      "cell_type": "code",
      "source": [
        "knn_acc = accuracy_score(y_test, knn.predict(x_test))"
      ],
      "metadata": {
        "id": "ql5PswfCDQOE"
      },
      "execution_count": 27,
      "outputs": []
    },
    {
      "cell_type": "code",
      "source": [
        "print(f\"Training Accuracy of KNN is {accuracy_score(y_train, knn.predict(x_train))}\")\n",
        "print(f\"Test Accuracy of KNN is {knn_acc} \\n\")\n"
      ],
      "metadata": {
        "colab": {
          "base_uri": "https://localhost:8080/"
        },
        "id": "YociufBvDQTL",
        "outputId": "58998599-3b52-47b0-8a42-d0ae73fac574"
      },
      "execution_count": 29,
      "outputs": [
        {
          "output_type": "stream",
          "name": "stdout",
          "text": [
            "Training Accuracy of KNN is 0.9883720930232558\n",
            "Test Accuracy of KNN is 0.991304347826087 \n",
            "\n"
          ]
        }
      ]
    },
    {
      "cell_type": "code",
      "source": [
        "print(f\"Confusion Matrix :- \\n{confusion_matrix(y_test, knn.predict(x_test))}\\n\")\n",
        "print(f\"Classification Report :- \\n {classification_report(y_test, knn.predict(x_test))}\")\n"
      ],
      "metadata": {
        "colab": {
          "base_uri": "https://localhost:8080/"
        },
        "id": "cxDvHGZ6DQVO",
        "outputId": "3105c46c-e80e-4454-ce02-35cf0bcf25a8"
      },
      "execution_count": 30,
      "outputs": [
        {
          "output_type": "stream",
          "name": "stdout",
          "text": [
            "Confusion Matrix :- \n",
            "[[62  1]\n",
            " [ 0 52]]\n",
            "\n",
            "Classification Report :- \n",
            "               precision    recall  f1-score   support\n",
            "\n",
            "           0       1.00      0.98      0.99        63\n",
            "           1       0.98      1.00      0.99        52\n",
            "\n",
            "    accuracy                           0.99       115\n",
            "   macro avg       0.99      0.99      0.99       115\n",
            "weighted avg       0.99      0.99      0.99       115\n",
            "\n"
          ]
        }
      ]
    },
    {
      "cell_type": "code",
      "source": [
        "from sklearn.tree import DecisionTreeClassifier\n",
        "\n",
        "dtc = DecisionTreeClassifier()\n",
        "dtc.fit(x_train, y_train)"
      ],
      "metadata": {
        "colab": {
          "base_uri": "https://localhost:8080/",
          "height": 74
        },
        "id": "3d3VB_kGDQW1",
        "outputId": "fa1813f6-accb-43db-c9e1-905991fc209f"
      },
      "execution_count": 31,
      "outputs": [
        {
          "output_type": "execute_result",
          "data": {
            "text/plain": [
              "DecisionTreeClassifier()"
            ],
            "text/html": [
              "<style>#sk-container-id-2 {color: black;background-color: white;}#sk-container-id-2 pre{padding: 0;}#sk-container-id-2 div.sk-toggleable {background-color: white;}#sk-container-id-2 label.sk-toggleable__label {cursor: pointer;display: block;width: 100%;margin-bottom: 0;padding: 0.3em;box-sizing: border-box;text-align: center;}#sk-container-id-2 label.sk-toggleable__label-arrow:before {content: \"▸\";float: left;margin-right: 0.25em;color: #696969;}#sk-container-id-2 label.sk-toggleable__label-arrow:hover:before {color: black;}#sk-container-id-2 div.sk-estimator:hover label.sk-toggleable__label-arrow:before {color: black;}#sk-container-id-2 div.sk-toggleable__content {max-height: 0;max-width: 0;overflow: hidden;text-align: left;background-color: #f0f8ff;}#sk-container-id-2 div.sk-toggleable__content pre {margin: 0.2em;color: black;border-radius: 0.25em;background-color: #f0f8ff;}#sk-container-id-2 input.sk-toggleable__control:checked~div.sk-toggleable__content {max-height: 200px;max-width: 100%;overflow: auto;}#sk-container-id-2 input.sk-toggleable__control:checked~label.sk-toggleable__label-arrow:before {content: \"▾\";}#sk-container-id-2 div.sk-estimator input.sk-toggleable__control:checked~label.sk-toggleable__label {background-color: #d4ebff;}#sk-container-id-2 div.sk-label input.sk-toggleable__control:checked~label.sk-toggleable__label {background-color: #d4ebff;}#sk-container-id-2 input.sk-hidden--visually {border: 0;clip: rect(1px 1px 1px 1px);clip: rect(1px, 1px, 1px, 1px);height: 1px;margin: -1px;overflow: hidden;padding: 0;position: absolute;width: 1px;}#sk-container-id-2 div.sk-estimator {font-family: monospace;background-color: #f0f8ff;border: 1px dotted black;border-radius: 0.25em;box-sizing: border-box;margin-bottom: 0.5em;}#sk-container-id-2 div.sk-estimator:hover {background-color: #d4ebff;}#sk-container-id-2 div.sk-parallel-item::after {content: \"\";width: 100%;border-bottom: 1px solid gray;flex-grow: 1;}#sk-container-id-2 div.sk-label:hover label.sk-toggleable__label {background-color: #d4ebff;}#sk-container-id-2 div.sk-serial::before {content: \"\";position: absolute;border-left: 1px solid gray;box-sizing: border-box;top: 0;bottom: 0;left: 50%;z-index: 0;}#sk-container-id-2 div.sk-serial {display: flex;flex-direction: column;align-items: center;background-color: white;padding-right: 0.2em;padding-left: 0.2em;position: relative;}#sk-container-id-2 div.sk-item {position: relative;z-index: 1;}#sk-container-id-2 div.sk-parallel {display: flex;align-items: stretch;justify-content: center;background-color: white;position: relative;}#sk-container-id-2 div.sk-item::before, #sk-container-id-2 div.sk-parallel-item::before {content: \"\";position: absolute;border-left: 1px solid gray;box-sizing: border-box;top: 0;bottom: 0;left: 50%;z-index: -1;}#sk-container-id-2 div.sk-parallel-item {display: flex;flex-direction: column;z-index: 1;position: relative;background-color: white;}#sk-container-id-2 div.sk-parallel-item:first-child::after {align-self: flex-end;width: 50%;}#sk-container-id-2 div.sk-parallel-item:last-child::after {align-self: flex-start;width: 50%;}#sk-container-id-2 div.sk-parallel-item:only-child::after {width: 0;}#sk-container-id-2 div.sk-dashed-wrapped {border: 1px dashed gray;margin: 0 0.4em 0.5em 0.4em;box-sizing: border-box;padding-bottom: 0.4em;background-color: white;}#sk-container-id-2 div.sk-label label {font-family: monospace;font-weight: bold;display: inline-block;line-height: 1.2em;}#sk-container-id-2 div.sk-label-container {text-align: center;}#sk-container-id-2 div.sk-container {/* jupyter's `normalize.less` sets `[hidden] { display: none; }` but bootstrap.min.css set `[hidden] { display: none !important; }` so we also need the `!important` here to be able to override the default hidden behavior on the sphinx rendered scikit-learn.org. See: https://github.com/scikit-learn/scikit-learn/issues/21755 */display: inline-block !important;position: relative;}#sk-container-id-2 div.sk-text-repr-fallback {display: none;}</style><div id=\"sk-container-id-2\" class=\"sk-top-container\"><div class=\"sk-text-repr-fallback\"><pre>DecisionTreeClassifier()</pre><b>In a Jupyter environment, please rerun this cell to show the HTML representation or trust the notebook. <br />On GitHub, the HTML representation is unable to render, please try loading this page with nbviewer.org.</b></div><div class=\"sk-container\" hidden><div class=\"sk-item\"><div class=\"sk-estimator sk-toggleable\"><input class=\"sk-toggleable__control sk-hidden--visually\" id=\"sk-estimator-id-2\" type=\"checkbox\" checked><label for=\"sk-estimator-id-2\" class=\"sk-toggleable__label sk-toggleable__label-arrow\">DecisionTreeClassifier</label><div class=\"sk-toggleable__content\"><pre>DecisionTreeClassifier()</pre></div></div></div></div></div>"
            ]
          },
          "metadata": {},
          "execution_count": 31
        }
      ]
    },
    {
      "cell_type": "code",
      "source": [
        "# accuracy score, confusion matrix and classification report of decision tree\n",
        "\n",
        "dtc_acc = accuracy_score(y_test, dtc.predict(x_test))\n"
      ],
      "metadata": {
        "id": "BPitC09YDQYh"
      },
      "execution_count": 32,
      "outputs": []
    },
    {
      "cell_type": "code",
      "source": [
        "print(f\"Training Accuracy of Decision Tree Classifier is {accuracy_score(y_train, dtc.predict(x_train))}\")\n",
        "print(f\"Test Accuracy of Decision Tree Classifier is {dtc_acc} \\n\")"
      ],
      "metadata": {
        "colab": {
          "base_uri": "https://localhost:8080/"
        },
        "id": "RFrRZKZBEw9h",
        "outputId": "b4092dcd-dc78-40e1-a5cd-ff5036a76094"
      },
      "execution_count": 33,
      "outputs": [
        {
          "output_type": "stream",
          "name": "stdout",
          "text": [
            "Training Accuracy of Decision Tree Classifier is 1.0\n",
            "Test Accuracy of Decision Tree Classifier is 0.991304347826087 \n",
            "\n"
          ]
        }
      ]
    },
    {
      "cell_type": "code",
      "source": [
        "print(f\"Confusion Matrix :- \\n{confusion_matrix(y_test, dtc.predict(x_test))}\\n\")\n",
        "print(f\"Classification Report :- \\n {classification_report(y_test, dtc.predict(x_test))}\")\n"
      ],
      "metadata": {
        "colab": {
          "base_uri": "https://localhost:8080/"
        },
        "id": "i2saR_zeExBV",
        "outputId": "3a6e63fc-3ff3-4198-a1da-30868d2c2ec5"
      },
      "execution_count": 34,
      "outputs": [
        {
          "output_type": "stream",
          "name": "stdout",
          "text": [
            "Confusion Matrix :- \n",
            "[[62  1]\n",
            " [ 0 52]]\n",
            "\n",
            "Classification Report :- \n",
            "               precision    recall  f1-score   support\n",
            "\n",
            "           0       1.00      0.98      0.99        63\n",
            "           1       0.98      1.00      0.99        52\n",
            "\n",
            "    accuracy                           0.99       115\n",
            "   macro avg       0.99      0.99      0.99       115\n",
            "weighted avg       0.99      0.99      0.99       115\n",
            "\n"
          ]
        }
      ]
    },
    {
      "cell_type": "code",
      "source": [
        "from lightgbm import LGBMClassifier\n",
        "\n",
        "lgbm = LGBMClassifier(learning_rate = 1)\n",
        "lgbm.fit(x_train, y_train)\n",
        "\n",
        "     "
      ],
      "metadata": {
        "colab": {
          "base_uri": "https://localhost:8080/",
          "height": 74
        },
        "id": "RNcqjNUgExC6",
        "outputId": "6e26405c-c9c4-4e24-93cd-70df9ab7e139"
      },
      "execution_count": 35,
      "outputs": [
        {
          "output_type": "execute_result",
          "data": {
            "text/plain": [
              "LGBMClassifier(learning_rate=1)"
            ],
            "text/html": [
              "<style>#sk-container-id-3 {color: black;background-color: white;}#sk-container-id-3 pre{padding: 0;}#sk-container-id-3 div.sk-toggleable {background-color: white;}#sk-container-id-3 label.sk-toggleable__label {cursor: pointer;display: block;width: 100%;margin-bottom: 0;padding: 0.3em;box-sizing: border-box;text-align: center;}#sk-container-id-3 label.sk-toggleable__label-arrow:before {content: \"▸\";float: left;margin-right: 0.25em;color: #696969;}#sk-container-id-3 label.sk-toggleable__label-arrow:hover:before {color: black;}#sk-container-id-3 div.sk-estimator:hover label.sk-toggleable__label-arrow:before {color: black;}#sk-container-id-3 div.sk-toggleable__content {max-height: 0;max-width: 0;overflow: hidden;text-align: left;background-color: #f0f8ff;}#sk-container-id-3 div.sk-toggleable__content pre {margin: 0.2em;color: black;border-radius: 0.25em;background-color: #f0f8ff;}#sk-container-id-3 input.sk-toggleable__control:checked~div.sk-toggleable__content {max-height: 200px;max-width: 100%;overflow: auto;}#sk-container-id-3 input.sk-toggleable__control:checked~label.sk-toggleable__label-arrow:before {content: \"▾\";}#sk-container-id-3 div.sk-estimator input.sk-toggleable__control:checked~label.sk-toggleable__label {background-color: #d4ebff;}#sk-container-id-3 div.sk-label input.sk-toggleable__control:checked~label.sk-toggleable__label {background-color: #d4ebff;}#sk-container-id-3 input.sk-hidden--visually {border: 0;clip: rect(1px 1px 1px 1px);clip: rect(1px, 1px, 1px, 1px);height: 1px;margin: -1px;overflow: hidden;padding: 0;position: absolute;width: 1px;}#sk-container-id-3 div.sk-estimator {font-family: monospace;background-color: #f0f8ff;border: 1px dotted black;border-radius: 0.25em;box-sizing: border-box;margin-bottom: 0.5em;}#sk-container-id-3 div.sk-estimator:hover {background-color: #d4ebff;}#sk-container-id-3 div.sk-parallel-item::after {content: \"\";width: 100%;border-bottom: 1px solid gray;flex-grow: 1;}#sk-container-id-3 div.sk-label:hover label.sk-toggleable__label {background-color: #d4ebff;}#sk-container-id-3 div.sk-serial::before {content: \"\";position: absolute;border-left: 1px solid gray;box-sizing: border-box;top: 0;bottom: 0;left: 50%;z-index: 0;}#sk-container-id-3 div.sk-serial {display: flex;flex-direction: column;align-items: center;background-color: white;padding-right: 0.2em;padding-left: 0.2em;position: relative;}#sk-container-id-3 div.sk-item {position: relative;z-index: 1;}#sk-container-id-3 div.sk-parallel {display: flex;align-items: stretch;justify-content: center;background-color: white;position: relative;}#sk-container-id-3 div.sk-item::before, #sk-container-id-3 div.sk-parallel-item::before {content: \"\";position: absolute;border-left: 1px solid gray;box-sizing: border-box;top: 0;bottom: 0;left: 50%;z-index: -1;}#sk-container-id-3 div.sk-parallel-item {display: flex;flex-direction: column;z-index: 1;position: relative;background-color: white;}#sk-container-id-3 div.sk-parallel-item:first-child::after {align-self: flex-end;width: 50%;}#sk-container-id-3 div.sk-parallel-item:last-child::after {align-self: flex-start;width: 50%;}#sk-container-id-3 div.sk-parallel-item:only-child::after {width: 0;}#sk-container-id-3 div.sk-dashed-wrapped {border: 1px dashed gray;margin: 0 0.4em 0.5em 0.4em;box-sizing: border-box;padding-bottom: 0.4em;background-color: white;}#sk-container-id-3 div.sk-label label {font-family: monospace;font-weight: bold;display: inline-block;line-height: 1.2em;}#sk-container-id-3 div.sk-label-container {text-align: center;}#sk-container-id-3 div.sk-container {/* jupyter's `normalize.less` sets `[hidden] { display: none; }` but bootstrap.min.css set `[hidden] { display: none !important; }` so we also need the `!important` here to be able to override the default hidden behavior on the sphinx rendered scikit-learn.org. See: https://github.com/scikit-learn/scikit-learn/issues/21755 */display: inline-block !important;position: relative;}#sk-container-id-3 div.sk-text-repr-fallback {display: none;}</style><div id=\"sk-container-id-3\" class=\"sk-top-container\"><div class=\"sk-text-repr-fallback\"><pre>LGBMClassifier(learning_rate=1)</pre><b>In a Jupyter environment, please rerun this cell to show the HTML representation or trust the notebook. <br />On GitHub, the HTML representation is unable to render, please try loading this page with nbviewer.org.</b></div><div class=\"sk-container\" hidden><div class=\"sk-item\"><div class=\"sk-estimator sk-toggleable\"><input class=\"sk-toggleable__control sk-hidden--visually\" id=\"sk-estimator-id-3\" type=\"checkbox\" checked><label for=\"sk-estimator-id-3\" class=\"sk-toggleable__label sk-toggleable__label-arrow\">LGBMClassifier</label><div class=\"sk-toggleable__content\"><pre>LGBMClassifier(learning_rate=1)</pre></div></div></div></div></div>"
            ]
          },
          "metadata": {},
          "execution_count": 35
        }
      ]
    },
    {
      "cell_type": "code",
      "source": [
        "# accuracy score, confusion matrix and classification report of lgbm classifier\n",
        "\n",
        "lgbm_acc = accuracy_score(y_test, lgbm.predict(x_test))\n"
      ],
      "metadata": {
        "id": "WichK2MiDQcC"
      },
      "execution_count": 36,
      "outputs": []
    },
    {
      "cell_type": "code",
      "source": [
        "print(f\"Training Accuracy of LGBM Classifier is {accuracy_score(y_train, lgbm.predict(x_train))}\")\n",
        "print(f\"Test Accuracy of LGBM Classifier is {lgbm_acc} \\n\")\n"
      ],
      "metadata": {
        "colab": {
          "base_uri": "https://localhost:8080/"
        },
        "id": "8n4m1nGIFDDY",
        "outputId": "b7f89dde-a0b5-42f4-d026-ba527783ef76"
      },
      "execution_count": 37,
      "outputs": [
        {
          "output_type": "stream",
          "name": "stdout",
          "text": [
            "Training Accuracy of LGBM Classifier is 1.0\n",
            "Test Accuracy of LGBM Classifier is 0.991304347826087 \n",
            "\n"
          ]
        }
      ]
    },
    {
      "cell_type": "code",
      "source": [
        "print(f\"{confusion_matrix(y_test, lgbm.predict(x_test))}\\n\")\n",
        "print(classification_report(y_test, lgbm.predict(x_test)))"
      ],
      "metadata": {
        "colab": {
          "base_uri": "https://localhost:8080/"
        },
        "id": "XtBcK6jhFGpe",
        "outputId": "bdb2e19a-9784-4f74-f5b8-7e346d1676c9"
      },
      "execution_count": 38,
      "outputs": [
        {
          "output_type": "stream",
          "name": "stdout",
          "text": [
            "[[62  1]\n",
            " [ 0 52]]\n",
            "\n",
            "              precision    recall  f1-score   support\n",
            "\n",
            "           0       1.00      0.98      0.99        63\n",
            "           1       0.98      1.00      0.99        52\n",
            "\n",
            "    accuracy                           0.99       115\n",
            "   macro avg       0.99      0.99      0.99       115\n",
            "weighted avg       0.99      0.99      0.99       115\n",
            "\n"
          ]
        }
      ]
    },
    {
      "cell_type": "code",
      "source": [
        "from sklearn.ensemble import RandomForestClassifier\n",
        "\n",
        "rd_clf = RandomForestClassifier(criterion = 'entropy', max_depth = 11, max_features = 'auto', min_samples_leaf = 2, min_samples_split = 3, n_estimators = 130)\n",
        "rd_clf.fit(x_train, y_train)\n"
      ],
      "metadata": {
        "colab": {
          "base_uri": "https://localhost:8080/",
          "height": 164
        },
        "id": "Yri-PcRbFGs2",
        "outputId": "92c26138-664e-4654-b00e-8f40c8b8cc1c"
      },
      "execution_count": 39,
      "outputs": [
        {
          "output_type": "stream",
          "name": "stderr",
          "text": [
            "/usr/local/lib/python3.9/dist-packages/sklearn/ensemble/_forest.py:424: FutureWarning: `max_features='auto'` has been deprecated in 1.1 and will be removed in 1.3. To keep the past behaviour, explicitly set `max_features='sqrt'` or remove this parameter as it is also the default value for RandomForestClassifiers and ExtraTreesClassifiers.\n",
            "  warn(\n"
          ]
        },
        {
          "output_type": "execute_result",
          "data": {
            "text/plain": [
              "RandomForestClassifier(criterion='entropy', max_depth=11, max_features='auto',\n",
              "                       min_samples_leaf=2, min_samples_split=3,\n",
              "                       n_estimators=130)"
            ],
            "text/html": [
              "<style>#sk-container-id-4 {color: black;background-color: white;}#sk-container-id-4 pre{padding: 0;}#sk-container-id-4 div.sk-toggleable {background-color: white;}#sk-container-id-4 label.sk-toggleable__label {cursor: pointer;display: block;width: 100%;margin-bottom: 0;padding: 0.3em;box-sizing: border-box;text-align: center;}#sk-container-id-4 label.sk-toggleable__label-arrow:before {content: \"▸\";float: left;margin-right: 0.25em;color: #696969;}#sk-container-id-4 label.sk-toggleable__label-arrow:hover:before {color: black;}#sk-container-id-4 div.sk-estimator:hover label.sk-toggleable__label-arrow:before {color: black;}#sk-container-id-4 div.sk-toggleable__content {max-height: 0;max-width: 0;overflow: hidden;text-align: left;background-color: #f0f8ff;}#sk-container-id-4 div.sk-toggleable__content pre {margin: 0.2em;color: black;border-radius: 0.25em;background-color: #f0f8ff;}#sk-container-id-4 input.sk-toggleable__control:checked~div.sk-toggleable__content {max-height: 200px;max-width: 100%;overflow: auto;}#sk-container-id-4 input.sk-toggleable__control:checked~label.sk-toggleable__label-arrow:before {content: \"▾\";}#sk-container-id-4 div.sk-estimator input.sk-toggleable__control:checked~label.sk-toggleable__label {background-color: #d4ebff;}#sk-container-id-4 div.sk-label input.sk-toggleable__control:checked~label.sk-toggleable__label {background-color: #d4ebff;}#sk-container-id-4 input.sk-hidden--visually {border: 0;clip: rect(1px 1px 1px 1px);clip: rect(1px, 1px, 1px, 1px);height: 1px;margin: -1px;overflow: hidden;padding: 0;position: absolute;width: 1px;}#sk-container-id-4 div.sk-estimator {font-family: monospace;background-color: #f0f8ff;border: 1px dotted black;border-radius: 0.25em;box-sizing: border-box;margin-bottom: 0.5em;}#sk-container-id-4 div.sk-estimator:hover {background-color: #d4ebff;}#sk-container-id-4 div.sk-parallel-item::after {content: \"\";width: 100%;border-bottom: 1px solid gray;flex-grow: 1;}#sk-container-id-4 div.sk-label:hover label.sk-toggleable__label {background-color: #d4ebff;}#sk-container-id-4 div.sk-serial::before {content: \"\";position: absolute;border-left: 1px solid gray;box-sizing: border-box;top: 0;bottom: 0;left: 50%;z-index: 0;}#sk-container-id-4 div.sk-serial {display: flex;flex-direction: column;align-items: center;background-color: white;padding-right: 0.2em;padding-left: 0.2em;position: relative;}#sk-container-id-4 div.sk-item {position: relative;z-index: 1;}#sk-container-id-4 div.sk-parallel {display: flex;align-items: stretch;justify-content: center;background-color: white;position: relative;}#sk-container-id-4 div.sk-item::before, #sk-container-id-4 div.sk-parallel-item::before {content: \"\";position: absolute;border-left: 1px solid gray;box-sizing: border-box;top: 0;bottom: 0;left: 50%;z-index: -1;}#sk-container-id-4 div.sk-parallel-item {display: flex;flex-direction: column;z-index: 1;position: relative;background-color: white;}#sk-container-id-4 div.sk-parallel-item:first-child::after {align-self: flex-end;width: 50%;}#sk-container-id-4 div.sk-parallel-item:last-child::after {align-self: flex-start;width: 50%;}#sk-container-id-4 div.sk-parallel-item:only-child::after {width: 0;}#sk-container-id-4 div.sk-dashed-wrapped {border: 1px dashed gray;margin: 0 0.4em 0.5em 0.4em;box-sizing: border-box;padding-bottom: 0.4em;background-color: white;}#sk-container-id-4 div.sk-label label {font-family: monospace;font-weight: bold;display: inline-block;line-height: 1.2em;}#sk-container-id-4 div.sk-label-container {text-align: center;}#sk-container-id-4 div.sk-container {/* jupyter's `normalize.less` sets `[hidden] { display: none; }` but bootstrap.min.css set `[hidden] { display: none !important; }` so we also need the `!important` here to be able to override the default hidden behavior on the sphinx rendered scikit-learn.org. See: https://github.com/scikit-learn/scikit-learn/issues/21755 */display: inline-block !important;position: relative;}#sk-container-id-4 div.sk-text-repr-fallback {display: none;}</style><div id=\"sk-container-id-4\" class=\"sk-top-container\"><div class=\"sk-text-repr-fallback\"><pre>RandomForestClassifier(criterion=&#x27;entropy&#x27;, max_depth=11, max_features=&#x27;auto&#x27;,\n",
              "                       min_samples_leaf=2, min_samples_split=3,\n",
              "                       n_estimators=130)</pre><b>In a Jupyter environment, please rerun this cell to show the HTML representation or trust the notebook. <br />On GitHub, the HTML representation is unable to render, please try loading this page with nbviewer.org.</b></div><div class=\"sk-container\" hidden><div class=\"sk-item\"><div class=\"sk-estimator sk-toggleable\"><input class=\"sk-toggleable__control sk-hidden--visually\" id=\"sk-estimator-id-4\" type=\"checkbox\" checked><label for=\"sk-estimator-id-4\" class=\"sk-toggleable__label sk-toggleable__label-arrow\">RandomForestClassifier</label><div class=\"sk-toggleable__content\"><pre>RandomForestClassifier(criterion=&#x27;entropy&#x27;, max_depth=11, max_features=&#x27;auto&#x27;,\n",
              "                       min_samples_leaf=2, min_samples_split=3,\n",
              "                       n_estimators=130)</pre></div></div></div></div></div>"
            ]
          },
          "metadata": {},
          "execution_count": 39
        }
      ]
    },
    {
      "cell_type": "code",
      "source": [
        "# accuracy score, confusion matrix and classification report of random forest\n",
        "\n",
        "rd_clf_acc = accuracy_score(y_test, rd_clf.predict(x_test))\n"
      ],
      "metadata": {
        "id": "ao4Q43UMFGu_"
      },
      "execution_count": 40,
      "outputs": []
    },
    {
      "cell_type": "code",
      "source": [
        "print(f\"Training Accuracy of Random Forest Classifier is {accuracy_score(y_train, rd_clf.predict(x_train))}\")\n",
        "print(f\"Test Accuracy of Random Forest Classifier is {rd_clf_acc} \\n\")\n"
      ],
      "metadata": {
        "colab": {
          "base_uri": "https://localhost:8080/"
        },
        "id": "UkgK4t-6FGyR",
        "outputId": "e288cdf9-b38f-4690-964f-258571761db7"
      },
      "execution_count": 41,
      "outputs": [
        {
          "output_type": "stream",
          "name": "stdout",
          "text": [
            "Training Accuracy of Random Forest Classifier is 1.0\n",
            "Test Accuracy of Random Forest Classifier is 0.991304347826087 \n",
            "\n"
          ]
        }
      ]
    },
    {
      "cell_type": "code",
      "source": [
        "print(f\"Confusion Matrix :- \\n{confusion_matrix(y_test, dtc.predict(x_test))}\\n\")\n",
        "print(f\"Classification Report :- \\n {classification_report(y_test, rd_clf.predict(x_test))}\")\n"
      ],
      "metadata": {
        "colab": {
          "base_uri": "https://localhost:8080/"
        },
        "id": "2AfPNG86FUWh",
        "outputId": "c97783ef-b9f2-4217-e206-db87cd561ff3"
      },
      "execution_count": 42,
      "outputs": [
        {
          "output_type": "stream",
          "name": "stdout",
          "text": [
            "Confusion Matrix :- \n",
            "[[62  1]\n",
            " [ 0 52]]\n",
            "\n",
            "Classification Report :- \n",
            "               precision    recall  f1-score   support\n",
            "\n",
            "           0       1.00      0.98      0.99        63\n",
            "           1       0.98      1.00      0.99        52\n",
            "\n",
            "    accuracy                           0.99       115\n",
            "   macro avg       0.99      0.99      0.99       115\n",
            "weighted avg       0.99      0.99      0.99       115\n",
            "\n"
          ]
        }
      ]
    },
    {
      "cell_type": "code",
      "source": [
        "models = pd.DataFrame({\n",
        "    'Model' : [ 'KNN', 'Decision Tree Classifier', 'LGBM Classifier', 'Random Forest Classifier'],\n",
        "    'Score' : [knn_acc, dtc_acc, lgbm_acc, rd_clf_acc]\n",
        "})"
      ],
      "metadata": {
        "id": "ZQlBHFkQFUYo"
      },
      "execution_count": 43,
      "outputs": []
    },
    {
      "cell_type": "code",
      "source": [
        "models.sort_values(by = 'Score', ascending = False)\n"
      ],
      "metadata": {
        "colab": {
          "base_uri": "https://localhost:8080/",
          "height": 175
        },
        "id": "ZN0Wc8SUFUbw",
        "outputId": "599b3aeb-a654-4d41-b43b-2d0e4273989e"
      },
      "execution_count": 44,
      "outputs": [
        {
          "output_type": "execute_result",
          "data": {
            "text/plain": [
              "                      Model     Score\n",
              "0                       KNN  0.991304\n",
              "1  Decision Tree Classifier  0.991304\n",
              "2           LGBM Classifier  0.991304\n",
              "3  Random Forest Classifier  0.991304"
            ],
            "text/html": [
              "\n",
              "  <div id=\"df-8da434a8-f980-4895-91dd-ba1b0c14127e\">\n",
              "    <div class=\"colab-df-container\">\n",
              "      <div>\n",
              "<style scoped>\n",
              "    .dataframe tbody tr th:only-of-type {\n",
              "        vertical-align: middle;\n",
              "    }\n",
              "\n",
              "    .dataframe tbody tr th {\n",
              "        vertical-align: top;\n",
              "    }\n",
              "\n",
              "    .dataframe thead th {\n",
              "        text-align: right;\n",
              "    }\n",
              "</style>\n",
              "<table border=\"1\" class=\"dataframe\">\n",
              "  <thead>\n",
              "    <tr style=\"text-align: right;\">\n",
              "      <th></th>\n",
              "      <th>Model</th>\n",
              "      <th>Score</th>\n",
              "    </tr>\n",
              "  </thead>\n",
              "  <tbody>\n",
              "    <tr>\n",
              "      <th>0</th>\n",
              "      <td>KNN</td>\n",
              "      <td>0.991304</td>\n",
              "    </tr>\n",
              "    <tr>\n",
              "      <th>1</th>\n",
              "      <td>Decision Tree Classifier</td>\n",
              "      <td>0.991304</td>\n",
              "    </tr>\n",
              "    <tr>\n",
              "      <th>2</th>\n",
              "      <td>LGBM Classifier</td>\n",
              "      <td>0.991304</td>\n",
              "    </tr>\n",
              "    <tr>\n",
              "      <th>3</th>\n",
              "      <td>Random Forest Classifier</td>\n",
              "      <td>0.991304</td>\n",
              "    </tr>\n",
              "  </tbody>\n",
              "</table>\n",
              "</div>\n",
              "      <button class=\"colab-df-convert\" onclick=\"convertToInteractive('df-8da434a8-f980-4895-91dd-ba1b0c14127e')\"\n",
              "              title=\"Convert this dataframe to an interactive table.\"\n",
              "              style=\"display:none;\">\n",
              "        \n",
              "  <svg xmlns=\"http://www.w3.org/2000/svg\" height=\"24px\"viewBox=\"0 0 24 24\"\n",
              "       width=\"24px\">\n",
              "    <path d=\"M0 0h24v24H0V0z\" fill=\"none\"/>\n",
              "    <path d=\"M18.56 5.44l.94 2.06.94-2.06 2.06-.94-2.06-.94-.94-2.06-.94 2.06-2.06.94zm-11 1L8.5 8.5l.94-2.06 2.06-.94-2.06-.94L8.5 2.5l-.94 2.06-2.06.94zm10 10l.94 2.06.94-2.06 2.06-.94-2.06-.94-.94-2.06-.94 2.06-2.06.94z\"/><path d=\"M17.41 7.96l-1.37-1.37c-.4-.4-.92-.59-1.43-.59-.52 0-1.04.2-1.43.59L10.3 9.45l-7.72 7.72c-.78.78-.78 2.05 0 2.83L4 21.41c.39.39.9.59 1.41.59.51 0 1.02-.2 1.41-.59l7.78-7.78 2.81-2.81c.8-.78.8-2.07 0-2.86zM5.41 20L4 18.59l7.72-7.72 1.47 1.35L5.41 20z\"/>\n",
              "  </svg>\n",
              "      </button>\n",
              "      \n",
              "  <style>\n",
              "    .colab-df-container {\n",
              "      display:flex;\n",
              "      flex-wrap:wrap;\n",
              "      gap: 12px;\n",
              "    }\n",
              "\n",
              "    .colab-df-convert {\n",
              "      background-color: #E8F0FE;\n",
              "      border: none;\n",
              "      border-radius: 50%;\n",
              "      cursor: pointer;\n",
              "      display: none;\n",
              "      fill: #1967D2;\n",
              "      height: 32px;\n",
              "      padding: 0 0 0 0;\n",
              "      width: 32px;\n",
              "    }\n",
              "\n",
              "    .colab-df-convert:hover {\n",
              "      background-color: #E2EBFA;\n",
              "      box-shadow: 0px 1px 2px rgba(60, 64, 67, 0.3), 0px 1px 3px 1px rgba(60, 64, 67, 0.15);\n",
              "      fill: #174EA6;\n",
              "    }\n",
              "\n",
              "    [theme=dark] .colab-df-convert {\n",
              "      background-color: #3B4455;\n",
              "      fill: #D2E3FC;\n",
              "    }\n",
              "\n",
              "    [theme=dark] .colab-df-convert:hover {\n",
              "      background-color: #434B5C;\n",
              "      box-shadow: 0px 1px 3px 1px rgba(0, 0, 0, 0.15);\n",
              "      filter: drop-shadow(0px 1px 2px rgba(0, 0, 0, 0.3));\n",
              "      fill: #FFFFFF;\n",
              "    }\n",
              "  </style>\n",
              "\n",
              "      <script>\n",
              "        const buttonEl =\n",
              "          document.querySelector('#df-8da434a8-f980-4895-91dd-ba1b0c14127e button.colab-df-convert');\n",
              "        buttonEl.style.display =\n",
              "          google.colab.kernel.accessAllowed ? 'block' : 'none';\n",
              "\n",
              "        async function convertToInteractive(key) {\n",
              "          const element = document.querySelector('#df-8da434a8-f980-4895-91dd-ba1b0c14127e');\n",
              "          const dataTable =\n",
              "            await google.colab.kernel.invokeFunction('convertToInteractive',\n",
              "                                                     [key], {});\n",
              "          if (!dataTable) return;\n",
              "\n",
              "          const docLinkHtml = 'Like what you see? Visit the ' +\n",
              "            '<a target=\"_blank\" href=https://colab.research.google.com/notebooks/data_table.ipynb>data table notebook</a>'\n",
              "            + ' to learn more about interactive tables.';\n",
              "          element.innerHTML = '';\n",
              "          dataTable['output_type'] = 'display_data';\n",
              "          await google.colab.output.renderOutput(dataTable, element);\n",
              "          const docLink = document.createElement('div');\n",
              "          docLink.innerHTML = docLinkHtml;\n",
              "          element.appendChild(docLink);\n",
              "        }\n",
              "      </script>\n",
              "    </div>\n",
              "  </div>\n",
              "  "
            ]
          },
          "metadata": {},
          "execution_count": 44
        }
      ]
    }
  ]
}